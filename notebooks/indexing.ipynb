{
 "cells": [
  {
   "cell_type": "code",
   "execution_count": 32,
   "metadata": {},
   "outputs": [],
   "source": [
    "import pandas as pd\n",
    "from sentence_transformers import SentenceTransformer\n",
    "import faiss\n",
    "import json\n",
    "import time"
   ]
  },
  {
   "cell_type": "code",
   "execution_count": 33,
   "metadata": {},
   "outputs": [],
   "source": [
    "# ls large-verbalized/"
   ]
  },
  {
   "cell_type": "code",
   "execution_count": 35,
   "metadata": {},
   "outputs": [
    {
     "data": {
      "text/html": [
       "<div>\n",
       "<style scoped>\n",
       "    .dataframe tbody tr th:only-of-type {\n",
       "        vertical-align: middle;\n",
       "    }\n",
       "\n",
       "    .dataframe tbody tr th {\n",
       "        vertical-align: top;\n",
       "    }\n",
       "\n",
       "    .dataframe thead th {\n",
       "        text-align: right;\n",
       "    }\n",
       "</style>\n",
       "<table border=\"1\" class=\"dataframe\">\n",
       "  <thead>\n",
       "    <tr style=\"text-align: right;\">\n",
       "      <th></th>\n",
       "      <th>head</th>\n",
       "      <th>relation</th>\n",
       "      <th>tail</th>\n",
       "    </tr>\n",
       "  </thead>\n",
       "  <tbody>\n",
       "    <tr>\n",
       "      <th>0</th>\n",
       "      <td>Q220192</td>\n",
       "      <td>P161</td>\n",
       "      <td>Q379400</td>\n",
       "    </tr>\n",
       "    <tr>\n",
       "      <th>1</th>\n",
       "      <td>Q3350666</td>\n",
       "      <td>P106</td>\n",
       "      <td>Q43845</td>\n",
       "    </tr>\n",
       "    <tr>\n",
       "      <th>2</th>\n",
       "      <td>Q102127</td>\n",
       "      <td>P106</td>\n",
       "      <td>Q245068</td>\n",
       "    </tr>\n",
       "    <tr>\n",
       "      <th>3</th>\n",
       "      <td>Q742217</td>\n",
       "      <td>P27</td>\n",
       "      <td>Q15180</td>\n",
       "    </tr>\n",
       "    <tr>\n",
       "      <th>4</th>\n",
       "      <td>Q1020</td>\n",
       "      <td>P463</td>\n",
       "      <td>Q827525</td>\n",
       "    </tr>\n",
       "    <tr>\n",
       "      <th>...</th>\n",
       "      <td>...</td>\n",
       "      <td>...</td>\n",
       "      <td>...</td>\n",
       "    </tr>\n",
       "    <tr>\n",
       "      <th>77039</th>\n",
       "      <td>Q87513</td>\n",
       "      <td>P27</td>\n",
       "      <td>Q40</td>\n",
       "    </tr>\n",
       "    <tr>\n",
       "      <th>77040</th>\n",
       "      <td>Q5275089</td>\n",
       "      <td>P27</td>\n",
       "      <td>Q30</td>\n",
       "    </tr>\n",
       "    <tr>\n",
       "      <th>77041</th>\n",
       "      <td>Q327146</td>\n",
       "      <td>P106</td>\n",
       "      <td>Q2865819</td>\n",
       "    </tr>\n",
       "    <tr>\n",
       "      <th>77042</th>\n",
       "      <td>Q1696019</td>\n",
       "      <td>P19</td>\n",
       "      <td>Q78</td>\n",
       "    </tr>\n",
       "    <tr>\n",
       "      <th>77043</th>\n",
       "      <td>Q111910</td>\n",
       "      <td>P27</td>\n",
       "      <td>Q183</td>\n",
       "    </tr>\n",
       "  </tbody>\n",
       "</table>\n",
       "<p>77044 rows × 3 columns</p>\n",
       "</div>"
      ],
      "text/plain": [
       "           head relation      tail\n",
       "0       Q220192     P161   Q379400\n",
       "1      Q3350666     P106    Q43845\n",
       "2       Q102127     P106   Q245068\n",
       "3       Q742217      P27    Q15180\n",
       "4         Q1020     P463   Q827525\n",
       "...         ...      ...       ...\n",
       "77039    Q87513      P27       Q40\n",
       "77040  Q5275089      P27       Q30\n",
       "77041   Q327146     P106  Q2865819\n",
       "77042  Q1696019      P19       Q78\n",
       "77043   Q111910      P27      Q183\n",
       "\n",
       "[77044 rows x 3 columns]"
      ]
     },
     "execution_count": 35,
     "metadata": {},
     "output_type": "execute_result"
    }
   ],
   "source": [
    "df_inference = pd.read_csv(\"~/bulatov/datasets/ilpc22/github/data/large/inference.txt\", names=['head', 'relation', 'tail'], sep='\\t')\n",
    "df_inference"
   ]
  },
  {
   "cell_type": "code",
   "execution_count": 36,
   "metadata": {},
   "outputs": [],
   "source": [
    "# !ls ~/bulatov/datasets/ilpc22/large_2sep_enum\n"
   ]
  },
  {
   "cell_type": "code",
   "execution_count": 37,
   "metadata": {},
   "outputs": [
    {
     "data": {
      "text/html": [
       "<div>\n",
       "<style scoped>\n",
       "    .dataframe tbody tr th:only-of-type {\n",
       "        vertical-align: middle;\n",
       "    }\n",
       "\n",
       "    .dataframe tbody tr th {\n",
       "        vertical-align: top;\n",
       "    }\n",
       "\n",
       "    .dataframe thead th {\n",
       "        text-align: right;\n",
       "    }\n",
       "</style>\n",
       "<table border=\"1\" class=\"dataframe\">\n",
       "  <thead>\n",
       "    <tr style=\"text-align: right;\">\n",
       "      <th></th>\n",
       "      <th>verbalization</th>\n",
       "      <th>head</th>\n",
       "      <th>tail</th>\n",
       "      <th>verbalized_tail</th>\n",
       "    </tr>\n",
       "  </thead>\n",
       "  <tbody>\n",
       "    <tr>\n",
       "      <th>0</th>\n",
       "      <td>predict [SEP] Jane Goldman [SEP-2] English scr...</td>\n",
       "      <td>Q32661</td>\n",
       "      <td>Q6625963</td>\n",
       "      <td>novelist [SEP-2] writer of novels</td>\n",
       "    </tr>\n",
       "    <tr>\n",
       "      <th>1</th>\n",
       "      <td>predict [SEP] novelist [SEP-2] writer of novel...</td>\n",
       "      <td>Q6625963</td>\n",
       "      <td>Q32661</td>\n",
       "      <td>Jane Goldman [SEP-2] English screenwriter, aut...</td>\n",
       "    </tr>\n",
       "    <tr>\n",
       "      <th>2</th>\n",
       "      <td>predict [SEP] Rounder Records [SEP-2] American...</td>\n",
       "      <td>Q2164531</td>\n",
       "      <td>Q30</td>\n",
       "      <td>United States of America [SEP-2] federal repub...</td>\n",
       "    </tr>\n",
       "    <tr>\n",
       "      <th>3</th>\n",
       "      <td>predict [SEP] United States of America [SEP-2]...</td>\n",
       "      <td>Q30</td>\n",
       "      <td>Q2164531</td>\n",
       "      <td>Rounder Records [SEP-2] American record label</td>\n",
       "    </tr>\n",
       "    <tr>\n",
       "      <th>4</th>\n",
       "      <td>predict [SEP] Anna Gmeyner [SEP-2] Austrian wr...</td>\n",
       "      <td>Q89261</td>\n",
       "      <td>Q1741</td>\n",
       "      <td>Vienna [SEP-2] capital and one of nine States ...</td>\n",
       "    </tr>\n",
       "    <tr>\n",
       "      <th>...</th>\n",
       "      <td>...</td>\n",
       "      <td>...</td>\n",
       "      <td>...</td>\n",
       "      <td>...</td>\n",
       "    </tr>\n",
       "    <tr>\n",
       "      <th>20353</th>\n",
       "      <td>predict [SEP] arteriosclerosis [SEP-2] thicken...</td>\n",
       "      <td>Q184559</td>\n",
       "      <td>Q207359</td>\n",
       "      <td>Georges Bataille [SEP-2] French intellectual a...</td>\n",
       "    </tr>\n",
       "    <tr>\n",
       "      <th>20354</th>\n",
       "      <td>predict [SEP] Clement of Ohrid [SEP-2] Macedon...</td>\n",
       "      <td>Q158504</td>\n",
       "      <td>Q12544</td>\n",
       "      <td>Byzantine Empire [SEP-2] Eastern Roman Empire ...</td>\n",
       "    </tr>\n",
       "    <tr>\n",
       "      <th>20355</th>\n",
       "      <td>predict [SEP] Byzantine Empire [SEP-2] Eastern...</td>\n",
       "      <td>Q12544</td>\n",
       "      <td>Q158504</td>\n",
       "      <td>Clement of Ohrid [SEP-2] Macedonian scholar an...</td>\n",
       "    </tr>\n",
       "    <tr>\n",
       "      <th>20356</th>\n",
       "      <td>predict [SEP] Katharine Isabelle [SEP-2] Canad...</td>\n",
       "      <td>Q236826</td>\n",
       "      <td>Q33999</td>\n",
       "      <td>actor [SEP-2] person who acts in a dramatic or...</td>\n",
       "    </tr>\n",
       "    <tr>\n",
       "      <th>20357</th>\n",
       "      <td>predict [SEP] actor [SEP-2] person who acts in...</td>\n",
       "      <td>Q33999</td>\n",
       "      <td>Q236826</td>\n",
       "      <td>Katharine Isabelle [SEP-2] Canadian actress</td>\n",
       "    </tr>\n",
       "  </tbody>\n",
       "</table>\n",
       "<p>20358 rows × 4 columns</p>\n",
       "</div>"
      ],
      "text/plain": [
       "                                           verbalization      head      tail  \\\n",
       "0      predict [SEP] Jane Goldman [SEP-2] English scr...    Q32661  Q6625963   \n",
       "1      predict [SEP] novelist [SEP-2] writer of novel...  Q6625963    Q32661   \n",
       "2      predict [SEP] Rounder Records [SEP-2] American...  Q2164531       Q30   \n",
       "3      predict [SEP] United States of America [SEP-2]...       Q30  Q2164531   \n",
       "4      predict [SEP] Anna Gmeyner [SEP-2] Austrian wr...    Q89261     Q1741   \n",
       "...                                                  ...       ...       ...   \n",
       "20353  predict [SEP] arteriosclerosis [SEP-2] thicken...   Q184559   Q207359   \n",
       "20354  predict [SEP] Clement of Ohrid [SEP-2] Macedon...   Q158504    Q12544   \n",
       "20355  predict [SEP] Byzantine Empire [SEP-2] Eastern...    Q12544   Q158504   \n",
       "20356  predict [SEP] Katharine Isabelle [SEP-2] Canad...   Q236826    Q33999   \n",
       "20357  predict [SEP] actor [SEP-2] person who acts in...    Q33999   Q236826   \n",
       "\n",
       "                                         verbalized_tail  \n",
       "0                      novelist [SEP-2] writer of novels  \n",
       "1      Jane Goldman [SEP-2] English screenwriter, aut...  \n",
       "2      United States of America [SEP-2] federal repub...  \n",
       "3          Rounder Records [SEP-2] American record label  \n",
       "4      Vienna [SEP-2] capital and one of nine States ...  \n",
       "...                                                  ...  \n",
       "20353  Georges Bataille [SEP-2] French intellectual a...  \n",
       "20354  Byzantine Empire [SEP-2] Eastern Roman Empire ...  \n",
       "20355  Clement of Ohrid [SEP-2] Macedonian scholar an...  \n",
       "20356  actor [SEP-2] person who acts in a dramatic or...  \n",
       "20357        Katharine Isabelle [SEP-2] Canadian actress  \n",
       "\n",
       "[20358 rows x 4 columns]"
      ]
     },
     "execution_count": 37,
     "metadata": {},
     "output_type": "execute_result"
    }
   ],
   "source": [
    "df_large_valid = pd.read_csv(\"~/bulatov/datasets/ilpc22/large_2sep_enum/large_valid.csv\", index_col=0)\n",
    "df_large_valid"
   ]
  },
  {
   "cell_type": "code",
   "execution_count": 38,
   "metadata": {},
   "outputs": [
    {
     "data": {
      "text/html": [
       "<div>\n",
       "<style scoped>\n",
       "    .dataframe tbody tr th:only-of-type {\n",
       "        vertical-align: middle;\n",
       "    }\n",
       "\n",
       "    .dataframe tbody tr th {\n",
       "        vertical-align: top;\n",
       "    }\n",
       "\n",
       "    .dataframe thead th {\n",
       "        text-align: right;\n",
       "    }\n",
       "</style>\n",
       "<table border=\"1\" class=\"dataframe\">\n",
       "  <thead>\n",
       "    <tr style=\"text-align: right;\">\n",
       "      <th></th>\n",
       "      <th>verbalization</th>\n",
       "      <th>head</th>\n",
       "      <th>tail</th>\n",
       "      <th>verbalized_tail</th>\n",
       "    </tr>\n",
       "  </thead>\n",
       "  <tbody>\n",
       "    <tr>\n",
       "      <th>0</th>\n",
       "      <td>predict [SEP] Karl Gebhardt [SEP-2] Nazi docto...</td>\n",
       "      <td>Q58626</td>\n",
       "      <td>Q183</td>\n",
       "      <td>Germany [SEP-2] federal parliamentary republic...</td>\n",
       "    </tr>\n",
       "    <tr>\n",
       "      <th>1</th>\n",
       "      <td>predict [SEP] Germany [SEP-2] federal parliame...</td>\n",
       "      <td>Q183</td>\n",
       "      <td>Q58626</td>\n",
       "      <td>Karl Gebhardt [SEP-2] Nazi doctor and war crim...</td>\n",
       "    </tr>\n",
       "    <tr>\n",
       "      <th>2</th>\n",
       "      <td>predict [SEP] Kurtis Blow [SEP-2] American rap...</td>\n",
       "      <td>Q961447</td>\n",
       "      <td>Q183945</td>\n",
       "      <td>record producer [SEP-2] individual who oversee...</td>\n",
       "    </tr>\n",
       "    <tr>\n",
       "      <th>3</th>\n",
       "      <td>predict [SEP] record producer [SEP-2] individu...</td>\n",
       "      <td>Q183945</td>\n",
       "      <td>Q961447</td>\n",
       "      <td>Kurtis Blow [SEP-2] American rapper</td>\n",
       "    </tr>\n",
       "    <tr>\n",
       "      <th>4</th>\n",
       "      <td>predict [SEP] Joesi Prokopetz [SEP-2] Austrian...</td>\n",
       "      <td>Q43864</td>\n",
       "      <td>Q40</td>\n",
       "      <td>Austria [SEP-2] federal republic in western-ce...</td>\n",
       "    </tr>\n",
       "    <tr>\n",
       "      <th>...</th>\n",
       "      <td>...</td>\n",
       "      <td>...</td>\n",
       "      <td>...</td>\n",
       "      <td>...</td>\n",
       "    </tr>\n",
       "    <tr>\n",
       "      <th>20363</th>\n",
       "      <td>predict [SEP] actor [SEP-2] person who acts in...</td>\n",
       "      <td>Q33999</td>\n",
       "      <td>Q451251</td>\n",
       "      <td>Ovidie [SEP-2] French pornographic actress, di...</td>\n",
       "    </tr>\n",
       "    <tr>\n",
       "      <th>20364</th>\n",
       "      <td>predict [SEP] Charles Richet [SEP-2] French ph...</td>\n",
       "      <td>Q214851</td>\n",
       "      <td>Q2370801</td>\n",
       "      <td>Academy of Sciences of the USSR [SEP-2] former...</td>\n",
       "    </tr>\n",
       "    <tr>\n",
       "      <th>20365</th>\n",
       "      <td>predict [SEP] Academy of Sciences of the USSR ...</td>\n",
       "      <td>Q2370801</td>\n",
       "      <td>Q214851</td>\n",
       "      <td>Charles Richet [SEP-2] French physiologist and...</td>\n",
       "    </tr>\n",
       "    <tr>\n",
       "      <th>20366</th>\n",
       "      <td>predict [SEP] Tito Schipa [SEP-2] Italian oper...</td>\n",
       "      <td>Q456827</td>\n",
       "      <td>Q33999</td>\n",
       "      <td>actor [SEP-2] person who acts in a dramatic or...</td>\n",
       "    </tr>\n",
       "    <tr>\n",
       "      <th>20367</th>\n",
       "      <td>predict [SEP] actor [SEP-2] person who acts in...</td>\n",
       "      <td>Q33999</td>\n",
       "      <td>Q456827</td>\n",
       "      <td>Tito Schipa [SEP-2] Italian opera singer (1888...</td>\n",
       "    </tr>\n",
       "  </tbody>\n",
       "</table>\n",
       "<p>20368 rows × 4 columns</p>\n",
       "</div>"
      ],
      "text/plain": [
       "                                           verbalization      head      tail  \\\n",
       "0      predict [SEP] Karl Gebhardt [SEP-2] Nazi docto...    Q58626      Q183   \n",
       "1      predict [SEP] Germany [SEP-2] federal parliame...      Q183    Q58626   \n",
       "2      predict [SEP] Kurtis Blow [SEP-2] American rap...   Q961447   Q183945   \n",
       "3      predict [SEP] record producer [SEP-2] individu...   Q183945   Q961447   \n",
       "4      predict [SEP] Joesi Prokopetz [SEP-2] Austrian...    Q43864       Q40   \n",
       "...                                                  ...       ...       ...   \n",
       "20363  predict [SEP] actor [SEP-2] person who acts in...    Q33999   Q451251   \n",
       "20364  predict [SEP] Charles Richet [SEP-2] French ph...   Q214851  Q2370801   \n",
       "20365  predict [SEP] Academy of Sciences of the USSR ...  Q2370801   Q214851   \n",
       "20366  predict [SEP] Tito Schipa [SEP-2] Italian oper...   Q456827    Q33999   \n",
       "20367  predict [SEP] actor [SEP-2] person who acts in...    Q33999   Q456827   \n",
       "\n",
       "                                         verbalized_tail  \n",
       "0      Germany [SEP-2] federal parliamentary republic...  \n",
       "1      Karl Gebhardt [SEP-2] Nazi doctor and war crim...  \n",
       "2      record producer [SEP-2] individual who oversee...  \n",
       "3                    Kurtis Blow [SEP-2] American rapper  \n",
       "4      Austria [SEP-2] federal republic in western-ce...  \n",
       "...                                                  ...  \n",
       "20363  Ovidie [SEP-2] French pornographic actress, di...  \n",
       "20364  Academy of Sciences of the USSR [SEP-2] former...  \n",
       "20365  Charles Richet [SEP-2] French physiologist and...  \n",
       "20366  actor [SEP-2] person who acts in a dramatic or...  \n",
       "20367  Tito Schipa [SEP-2] Italian opera singer (1888...  \n",
       "\n",
       "[20368 rows x 4 columns]"
      ]
     },
     "execution_count": 38,
     "metadata": {},
     "output_type": "execute_result"
    }
   ],
   "source": [
    "df_large_test = pd.read_csv(\"~/bulatov/datasets/ilpc22/large_2sep_enum/large_test.csv\", index_col=0)\n",
    "df_large_test"
   ]
  },
  {
   "cell_type": "markdown",
   "metadata": {},
   "source": [
    "### Checking that everything from test and valid is in the inference graph"
   ]
  },
  {
   "cell_type": "code",
   "execution_count": 39,
   "metadata": {},
   "outputs": [
    {
     "data": {
      "text/plain": [
       "set()"
      ]
     },
     "execution_count": 39,
     "metadata": {},
     "output_type": "execute_result"
    }
   ],
   "source": [
    "set(list(df_large_test['head']) + list(df_large_test['tail']) + list(df_large_valid['head']) + list(df_large_valid['tail'])) \\\n",
    "     - set(list(df_inference['head']) + list(df_inference['tail']))"
   ]
  },
  {
   "cell_type": "code",
   "execution_count": 40,
   "metadata": {},
   "outputs": [
    {
     "data": {
      "text/plain": [
       "set()"
      ]
     },
     "execution_count": 40,
     "metadata": {},
     "output_type": "execute_result"
    }
   ],
   "source": [
    "set(list(df_large_valid['head']) + list(df_large_valid['tail']))  \\\n",
    "     - set(list(df_inference['head']) + list(df_inference['tail']))"
   ]
  },
  {
   "cell_type": "markdown",
   "metadata": {},
   "source": [
    "## Verbalizing entities from inference - label + description "
   ]
  },
  {
   "cell_type": "code",
   "execution_count": 41,
   "metadata": {},
   "outputs": [
    {
     "ename": "FileNotFoundError",
     "evalue": "[Errno 2] No such file or directory: 'entities.json'",
     "output_type": "error",
     "traceback": [
      "\u001b[0;31m---------------------------------------------------------------------------\u001b[0m",
      "\u001b[0;31mFileNotFoundError\u001b[0m                         Traceback (most recent call last)",
      "Input \u001b[0;32mIn [41]\u001b[0m, in \u001b[0;36m<cell line: 1>\u001b[0;34m()\u001b[0m\n\u001b[0;32m----> 1\u001b[0m \u001b[38;5;28;01mwith\u001b[39;00m \u001b[38;5;28;43mopen\u001b[39;49m\u001b[43m(\u001b[49m\u001b[38;5;124;43m'\u001b[39;49m\u001b[38;5;124;43mentities.json\u001b[39;49m\u001b[38;5;124;43m'\u001b[39;49m\u001b[43m,\u001b[49m\u001b[43m \u001b[49m\u001b[38;5;124;43m'\u001b[39;49m\u001b[38;5;124;43mr\u001b[39;49m\u001b[38;5;124;43m'\u001b[39;49m\u001b[43m)\u001b[49m \u001b[38;5;28;01mas\u001b[39;00m f:\n\u001b[1;32m      2\u001b[0m     entities \u001b[38;5;241m=\u001b[39m json\u001b[38;5;241m.\u001b[39mload(f)\n",
      "\u001b[0;31mFileNotFoundError\u001b[0m: [Errno 2] No such file or directory: 'entities.json'"
     ]
    }
   ],
   "source": [
    "with open('entities.json', 'r') as f:\n",
    "    entities = json.load(f)"
   ]
  },
  {
   "cell_type": "code",
   "execution_count": 42,
   "metadata": {},
   "outputs": [
    {
     "data": {
      "text/plain": [
       "29246"
      ]
     },
     "execution_count": 42,
     "metadata": {},
     "output_type": "execute_result"
    }
   ],
   "source": [
    "inference_entities = list(set(list(df_inference['tail']) + list(df_inference['head'])))\n",
    "len(inference_entities)"
   ]
  },
  {
   "cell_type": "code",
   "execution_count": 43,
   "metadata": {},
   "outputs": [
    {
     "ename": "NameError",
     "evalue": "name 'entities' is not defined",
     "output_type": "error",
     "traceback": [
      "\u001b[0;31m---------------------------------------------------------------------------\u001b[0m",
      "\u001b[0;31mNameError\u001b[0m                                 Traceback (most recent call last)",
      "Input \u001b[0;32mIn [43]\u001b[0m, in \u001b[0;36m<cell line: 3>\u001b[0;34m()\u001b[0m\n\u001b[1;32m      1\u001b[0m verbalized_inference_entities \u001b[38;5;241m=\u001b[39m []\n\u001b[1;32m      3\u001b[0m \u001b[38;5;28;01mfor\u001b[39;00m entity \u001b[38;5;129;01min\u001b[39;00m inference_entities:\n\u001b[0;32m----> 4\u001b[0m     verb_ent \u001b[38;5;241m=\u001b[39m \u001b[43mentities\u001b[49m[entity][\u001b[38;5;124m'\u001b[39m\u001b[38;5;124mlabel\u001b[39m\u001b[38;5;124m'\u001b[39m] \u001b[38;5;241m+\u001b[39m \u001b[38;5;124m\"\u001b[39m\u001b[38;5;124m \u001b[39m\u001b[38;5;124m\"\u001b[39m \u001b[38;5;241m+\u001b[39m entities[entity][\u001b[38;5;124m'\u001b[39m\u001b[38;5;124mdescription\u001b[39m\u001b[38;5;124m'\u001b[39m]\n\u001b[1;32m      5\u001b[0m     verbalized_inference_entities\u001b[38;5;241m.\u001b[39mappend(verb_ent)\n\u001b[1;32m      6\u001b[0m verbalized_inference_entities[:\u001b[38;5;241m3\u001b[39m]\n",
      "\u001b[0;31mNameError\u001b[0m: name 'entities' is not defined"
     ]
    }
   ],
   "source": [
    "verbalized_inference_entities = []\n",
    "\n",
    "for entity in inference_entities:\n",
    "    verb_ent = entities[entity]['label'] + \" \" + entities[entity]['description']\n",
    "    verbalized_inference_entities.append(verb_ent)\n",
    "verbalized_inference_entities[:3]"
   ]
  },
  {
   "cell_type": "markdown",
   "metadata": {},
   "source": [
    "## Embedding verbalizations of entities from inference graph"
   ]
  },
  {
   "cell_type": "code",
   "execution_count": 44,
   "metadata": {},
   "outputs": [],
   "source": [
    "model = SentenceTransformer('all-MiniLM-L6-v2')"
   ]
  },
  {
   "cell_type": "code",
   "execution_count": 45,
   "metadata": {},
   "outputs": [],
   "source": [
    "embeddings = model.encode(verbalized_inference_entities)"
   ]
  },
  {
   "cell_type": "code",
   "execution_count": 46,
   "metadata": {},
   "outputs": [
    {
     "data": {
      "text/plain": [
       "(0,)"
      ]
     },
     "execution_count": 46,
     "metadata": {},
     "output_type": "execute_result"
    }
   ],
   "source": [
    "embeddings.shape"
   ]
  },
  {
   "cell_type": "markdown",
   "metadata": {},
   "source": [
    "## FAISS"
   ]
  },
  {
   "cell_type": "code",
   "execution_count": 71,
   "metadata": {},
   "outputs": [],
   "source": [
    "inference_entities = [int(ent[1:]) for ent in inference_entities]"
   ]
  },
  {
   "cell_type": "code",
   "execution_count": 73,
   "metadata": {},
   "outputs": [],
   "source": [
    "dim = embeddings.shape[1]\n",
    "metric = faiss.METRIC_INNER_PRODUCT\n",
    "index = faiss.index_factory(dim, 'IDMap,Flat', metric)\n",
    "\n",
    "index.add_with_ids(embeddings, inference_entities)"
   ]
  },
  {
   "cell_type": "code",
   "execution_count": 74,
   "metadata": {},
   "outputs": [
    {
     "name": "stdout",
     "output_type": "stream",
     "text": [
      "True\n"
     ]
    }
   ],
   "source": [
    "print(index.is_trained)"
   ]
  },
  {
   "cell_type": "code",
   "execution_count": 84,
   "metadata": {},
   "outputs": [],
   "source": [
    "distances, indices = index.search(embeddings[:3, :], 3)"
   ]
  },
  {
   "cell_type": "code",
   "execution_count": 79,
   "metadata": {},
   "outputs": [
    {
     "data": {
      "text/plain": [
       "array([[3768363, 3766433, 3504610],\n",
       "       [ 519273,  739636, 1175878],\n",
       "       [ 861936,  861975,  862365]])"
      ]
     },
     "execution_count": 79,
     "metadata": {},
     "output_type": "execute_result"
    }
   ],
   "source": [
    "indices"
   ]
  },
  {
   "cell_type": "code",
   "execution_count": 80,
   "metadata": {},
   "outputs": [
    {
     "data": {
      "text/plain": [
       "[3768363, 519273, 861936]"
      ]
     },
     "execution_count": 80,
     "metadata": {},
     "output_type": "execute_result"
    }
   ],
   "source": [
    "inference_entities[:3]"
   ]
  },
  {
   "cell_type": "code",
   "execution_count": 85,
   "metadata": {},
   "outputs": [
    {
     "name": "stdout",
     "output_type": "stream",
     "text": [
      "--- It takes 0.0007022369627765727 seconds on average to find 1 neighbours---\n",
      "--- It takes 0.0006997868421750609 seconds on average to find 3 neighbours---\n",
      "--- It takes 0.0007011300927431975 seconds on average to find 5 neighbours---\n",
      "--- It takes 0.000700585625121607 seconds on average to find 10 neighbours---\n"
     ]
    }
   ],
   "source": [
    "ks = [1, 3, 5, 10]\n",
    "\n",
    "\n",
    "for k in ks:\n",
    "    start_time = time.time()\n",
    "\n",
    "    distances, indices = index.search(embeddings, k)\n",
    "    print(\"--- It takes {} seconds on average to find {} neighbours---\".format((time.time() - start_time) / embeddings.shape[0], k))"
   ]
  },
  {
   "cell_type": "code",
   "execution_count": 87,
   "metadata": {},
   "outputs": [],
   "source": [
    "faiss.write_index(index,\"vector.index\")  # save the index to disk\n",
    "index = faiss.read_index(\"vector.index\")  # load the index"
   ]
  },
  {
   "cell_type": "code",
   "execution_count": null,
   "metadata": {},
   "outputs": [],
   "source": []
  }
 ],
 "metadata": {
  "kernelspec": {
   "display_name": "hvdenv",
   "language": "python",
   "name": "hvdenv"
  },
  "language_info": {
   "codemirror_mode": {
    "name": "ipython",
    "version": 3
   },
   "file_extension": ".py",
   "mimetype": "text/x-python",
   "name": "python",
   "nbconvert_exporter": "python",
   "pygments_lexer": "ipython3",
   "version": "3.8.10"
  },
  "vscode": {
   "interpreter": {
    "hash": "1496692166dd11cde43587e08242c55885dfd0e67e901bd5644dc52e874c6210"
   }
  }
 },
 "nbformat": 4,
 "nbformat_minor": 4
}
