{
 "cells": [
  {
   "cell_type": "code",
   "execution_count": 276,
   "id": "f33bae84-86c1-4c78-9d79-3d36c8129f62",
   "metadata": {},
   "outputs": [],
   "source": [
    "import json\n",
    "import logging\n",
    "import os\n",
    "import shutil\n",
    "from pathlib import Path\n",
    "from pymongo import MongoClient\n",
    "\n",
    "# from megatron.data.dataset_utils import get_indexed_dataset_\n",
    "import sys\n",
    "sys.path.append('..')\n",
    "\n",
    "import horovod.torch as hvd\n",
    "from dotenv import load_dotenv\n",
    "import torch\n",
    "import numpy as np\n",
    "from torch.utils.data import DataLoader, DistributedSampler, RandomSampler\n",
    "import datasets\n",
    "from huggingface_hub import hf_hub_download\n",
    "from sklearn.metrics import f1_score, accuracy_score\n",
    "\n",
    "from lm_experiments_tools import TrainerArgs\n",
    "from lm_experiments_tools.trainer_refactor import Trainer\n",
    "from torch.utils.data import Dataset, DataLoader"
   ]
  },
  {
   "cell_type": "code",
   "execution_count": 281,
   "id": "123265df-c2d5-4752-b9ad-1a2605194d7b",
   "metadata": {},
   "outputs": [],
   "source": [
    "model_path = \"../runs/t5-small/ilpc-large/lr1e-05_linear_adamw_wd1e-02_512-512_bs128_iters250000_pretrained_2sep_enum/run_1/\""
   ]
  },
  {
   "cell_type": "code",
   "execution_count": 286,
   "id": "d1c6f271-0cb7-4c8a-8c06-4183b4256234",
   "metadata": {},
   "outputs": [],
   "source": [
    "from transformers import T5ForConditionalGeneration, AutoModel"
   ]
  },
  {
   "cell_type": "code",
   "execution_count": 289,
   "id": "669e1e13-31dc-4eb6-a49d-5f33752cb9c9",
   "metadata": {},
   "outputs": [
    {
     "name": "stderr",
     "output_type": "stream",
     "text": [
      "/cephfs/home/bulatov/bulatov/hvdenv/lib/python3.8/site-packages/cryptography/hazmat/backends/openssl/x509.py:14: CryptographyDeprecationWarning: This version of cryptography contains a temporary pyOpenSSL fallback path. Upgrade pyOpenSSL now.\n",
      "  warnings.warn(\n"
     ]
    }
   ],
   "source": [
    "model = T5ForConditionalGeneration.from_pretrained('t5-small')"
   ]
  },
  {
   "cell_type": "code",
   "execution_count": 290,
   "id": "80e4df01-9daa-4380-bbb3-2053e5221331",
   "metadata": {},
   "outputs": [],
   "source": [
    "cpt = torch.load(model_path + 'model_best.pth')"
   ]
  },
  {
   "cell_type": "code",
   "execution_count": 293,
   "id": "11d5b6c7-474c-46a7-b4cd-1e5689649f4a",
   "metadata": {},
   "outputs": [
    {
     "data": {
      "text/plain": [
       "<All keys matched successfully>"
      ]
     },
     "execution_count": 293,
     "metadata": {},
     "output_type": "execute_result"
    }
   ],
   "source": [
    "model.load_state_dict(cpt['model_state_dict'])"
   ]
  },
  {
   "cell_type": "code",
   "execution_count": 129,
   "id": "5fab6d8c-c752-4191-937f-9b22909fa4ae",
   "metadata": {},
   "outputs": [],
   "source": [
    "# class KGLMLocalDataset(Dataset):\n",
    "#     def __init__(self, port, db, collection, neighborhood=True):\n",
    "#         self.client = MongoClient('localhost', port)\n",
    "#         self.db_name = db\n",
    "#         self.collection_name = collection\n",
    "#         self.collection = self.client[db][collection]\n",
    "#         self.length = self.client[self.db_name].command(\"collstats\", self.collection_name)['count']\n",
    "#         self.neighborhood = neighborhood\n",
    "\n",
    "#     def  __getitem__(self, idx):\n",
    "#         item = {}\n",
    "#         doc = self.collection.find_one({'_id': str(idx)})\n",
    "#         print(doc)\n",
    "        \n",
    "#         if self.neighborhood:\n",
    "#             item[\"input\"] = doc['verbalization']\n",
    "#         else:\n",
    "#             verbalization = doc['verbalization']\n",
    "#             inp = '[SEP]'.join(verbalization.split('[SEP]')[:2])\n",
    "#             item[\"input\"] = inp\n",
    "            \n",
    "#         item[\"outputs\"] = doc['target']\n",
    "#         return item\n",
    "        \n",
    "#     def __len__(self):\n",
    "#         return self.length"
   ]
  },
  {
   "cell_type": "code",
   "execution_count": 237,
   "id": "01caf0db-8344-476e-bc1d-af3b709ff791",
   "metadata": {},
   "outputs": [],
   "source": [
    "# path = '/home/bulatov/bulatov/datasets/ilpc22/small-valid.csv'\n",
    "# path = '/home/bulatov/bulatov/datasets/ilpc22/large_2sep/large_test.csv'\n",
    "path = '/home/bulatov/bulatov/datasets/ilpc22/large_2sep/large_valid.csv'"
   ]
  },
  {
   "cell_type": "code",
   "execution_count": 238,
   "id": "cb6ccf96-1b1b-49ac-8f51-fd3f47c6ed7b",
   "metadata": {},
   "outputs": [],
   "source": [
    "import pandas as pd\n",
    "\n",
    "df = pd.read_csv(path)"
   ]
  },
  {
   "cell_type": "code",
   "execution_count": 239,
   "id": "a41822fe-df33-4321-ba6d-3b244361f755",
   "metadata": {},
   "outputs": [],
   "source": [
    "tails = df.verbalized_tail.apply(lambda x: x.split(' [SEP-2] ')[0])"
   ]
  },
  {
   "cell_type": "code",
   "execution_count": 240,
   "id": "39f6d50b-edc5-46b4-92bb-7b355b9b8843",
   "metadata": {},
   "outputs": [],
   "source": [
    "df['tail_name'] = tails"
   ]
  },
  {
   "cell_type": "code",
   "execution_count": 241,
   "id": "32c89473-fa1d-442b-9e7d-35c8859a8b8a",
   "metadata": {},
   "outputs": [],
   "source": [
    "verb2tail = df.groupby('tail_name').agg({'tail':tuple})\n",
    "verb2tail['tail'] = verb2tail['tail'].apply(lambda x: np.unique(x))"
   ]
  },
  {
   "cell_type": "code",
   "execution_count": 246,
   "id": "e8613eb4-97a2-4d54-89d1-b73886c44804",
   "metadata": {},
   "outputs": [
    {
     "data": {
      "text/html": [
       "<div>\n",
       "<style scoped>\n",
       "    .dataframe tbody tr th:only-of-type {\n",
       "        vertical-align: middle;\n",
       "    }\n",
       "\n",
       "    .dataframe tbody tr th {\n",
       "        vertical-align: top;\n",
       "    }\n",
       "\n",
       "    .dataframe thead th {\n",
       "        text-align: right;\n",
       "    }\n",
       "</style>\n",
       "<table border=\"1\" class=\"dataframe\">\n",
       "  <thead>\n",
       "    <tr style=\"text-align: right;\">\n",
       "      <th></th>\n",
       "      <th>tail</th>\n",
       "    </tr>\n",
       "    <tr>\n",
       "      <th>tail_name</th>\n",
       "      <th></th>\n",
       "    </tr>\n",
       "  </thead>\n",
       "  <tbody>\n",
       "    <tr>\n",
       "      <th>Benjamin Franklin</th>\n",
       "      <td>[Q34969, Q4888609]</td>\n",
       "    </tr>\n",
       "    <tr>\n",
       "      <th>Berg</th>\n",
       "      <td>[Q67165, Q67318]</td>\n",
       "    </tr>\n",
       "    <tr>\n",
       "      <th>Chris Anderson</th>\n",
       "      <td>[Q2536856, Q706222]</td>\n",
       "    </tr>\n",
       "    <tr>\n",
       "      <th>Forest Lawn Memorial Park</th>\n",
       "      <td>[Q1302545, Q1437214]</td>\n",
       "    </tr>\n",
       "    <tr>\n",
       "      <th>František Babka</th>\n",
       "      <td>[Q20057364, Q20057365]</td>\n",
       "    </tr>\n",
       "    <tr>\n",
       "      <th>Giubiasco</th>\n",
       "      <td>[Q1527847, Q69498]</td>\n",
       "    </tr>\n",
       "    <tr>\n",
       "      <th>Heinrich Hoffmann</th>\n",
       "      <td>[Q215724, Q57437]</td>\n",
       "    </tr>\n",
       "    <tr>\n",
       "      <th>Jacksonville</th>\n",
       "      <td>[Q16568, Q685644]</td>\n",
       "    </tr>\n",
       "    <tr>\n",
       "      <th>John Hughes</th>\n",
       "      <td>[Q311263, Q328225]</td>\n",
       "    </tr>\n",
       "    <tr>\n",
       "      <th>Kingdom of Hungary</th>\n",
       "      <td>[Q1470101, Q171150]</td>\n",
       "    </tr>\n",
       "    <tr>\n",
       "      <th>Little Women</th>\n",
       "      <td>[Q1132231, Q195274]</td>\n",
       "    </tr>\n",
       "    <tr>\n",
       "      <th>Newport</th>\n",
       "      <td>[Q101254, Q54264]</td>\n",
       "    </tr>\n",
       "    <tr>\n",
       "      <th>Rickenbach</th>\n",
       "      <td>[Q67942, Q68440, Q68457]</td>\n",
       "    </tr>\n",
       "    <tr>\n",
       "      <th>Salzburg</th>\n",
       "      <td>[Q34713, Q43325]</td>\n",
       "    </tr>\n",
       "    <tr>\n",
       "      <th>Sony Music</th>\n",
       "      <td>[Q330629, Q56760250]</td>\n",
       "    </tr>\n",
       "    <tr>\n",
       "      <th>Teenage Mutant Ninja Turtles</th>\n",
       "      <td>[Q158869, Q249056, Q501338]</td>\n",
       "    </tr>\n",
       "    <tr>\n",
       "      <th>Venice</th>\n",
       "      <td>[Q641, Q773853]</td>\n",
       "    </tr>\n",
       "    <tr>\n",
       "      <th>Windsor</th>\n",
       "      <td>[Q182625, Q464955]</td>\n",
       "    </tr>\n",
       "    <tr>\n",
       "      <th>X-Men</th>\n",
       "      <td>[Q128452, Q2006869]</td>\n",
       "    </tr>\n",
       "  </tbody>\n",
       "</table>\n",
       "</div>"
      ],
      "text/plain": [
       "                                                     tail\n",
       "tail_name                                                \n",
       "Benjamin Franklin                      [Q34969, Q4888609]\n",
       "Berg                                     [Q67165, Q67318]\n",
       "Chris Anderson                        [Q2536856, Q706222]\n",
       "Forest Lawn Memorial Park            [Q1302545, Q1437214]\n",
       "František Babka                    [Q20057364, Q20057365]\n",
       "Giubiasco                              [Q1527847, Q69498]\n",
       "Heinrich Hoffmann                       [Q215724, Q57437]\n",
       "Jacksonville                            [Q16568, Q685644]\n",
       "John Hughes                            [Q311263, Q328225]\n",
       "Kingdom of Hungary                    [Q1470101, Q171150]\n",
       "Little Women                          [Q1132231, Q195274]\n",
       "Newport                                 [Q101254, Q54264]\n",
       "Rickenbach                       [Q67942, Q68440, Q68457]\n",
       "Salzburg                                 [Q34713, Q43325]\n",
       "Sony Music                           [Q330629, Q56760250]\n",
       "Teenage Mutant Ninja Turtles  [Q158869, Q249056, Q501338]\n",
       "Venice                                    [Q641, Q773853]\n",
       "Windsor                                [Q182625, Q464955]\n",
       "X-Men                                 [Q128452, Q2006869]"
      ]
     },
     "execution_count": 246,
     "metadata": {},
     "output_type": "execute_result"
    }
   ],
   "source": [
    "verb2tail[verb2tail['tail'].apply(len) > 1]"
   ]
  },
  {
   "cell_type": "code",
   "execution_count": 243,
   "id": "e4b07b5f-01f3-496c-b922-d059957c2325",
   "metadata": {},
   "outputs": [
    {
     "data": {
      "text/plain": [
       "['Q34969',\n",
       " 'Q4888609',\n",
       " 'Q67165',\n",
       " 'Q67318',\n",
       " 'Q2536856',\n",
       " 'Q706222',\n",
       " 'Q1302545',\n",
       " 'Q1437214',\n",
       " 'Q20057364',\n",
       " 'Q20057365',\n",
       " 'Q1527847',\n",
       " 'Q69498',\n",
       " 'Q215724',\n",
       " 'Q57437',\n",
       " 'Q16568',\n",
       " 'Q685644',\n",
       " 'Q311263',\n",
       " 'Q328225',\n",
       " 'Q1470101',\n",
       " 'Q171150',\n",
       " 'Q1132231',\n",
       " 'Q195274',\n",
       " 'Q101254',\n",
       " 'Q54264',\n",
       " 'Q67942',\n",
       " 'Q68440',\n",
       " 'Q68457',\n",
       " 'Q34713',\n",
       " 'Q43325',\n",
       " 'Q330629',\n",
       " 'Q56760250',\n",
       " 'Q158869',\n",
       " 'Q249056',\n",
       " 'Q501338',\n",
       " 'Q641',\n",
       " 'Q773853',\n",
       " 'Q182625',\n",
       " 'Q464955',\n",
       " 'Q128452',\n",
       " 'Q2006869']"
      ]
     },
     "execution_count": 243,
     "metadata": {},
     "output_type": "execute_result"
    }
   ],
   "source": [
    "duplicate_tail_ids = verb2tail[verb2tail['tail'].apply(len) > 1]['tail'].apply(list).sum()\n",
    "duplicate_tail_ids"
   ]
  },
  {
   "cell_type": "code",
   "execution_count": 244,
   "id": "0e787e9b-56d9-4948-98bc-687a19671463",
   "metadata": {},
   "outputs": [
    {
     "data": {
      "text/plain": [
       "0.003094606542882405"
      ]
     },
     "execution_count": 244,
     "metadata": {},
     "output_type": "execute_result"
    }
   ],
   "source": [
    "df['tail'].isin(set(duplicate_tail_ids)).mean()"
   ]
  },
  {
   "cell_type": "code",
   "execution_count": 234,
   "id": "2bb3487c-43d6-476c-abaf-7e2f164b9409",
   "metadata": {},
   "outputs": [
    {
     "data": {
      "text/html": [
       "<div>\n",
       "<style scoped>\n",
       "    .dataframe tbody tr th:only-of-type {\n",
       "        vertical-align: middle;\n",
       "    }\n",
       "\n",
       "    .dataframe tbody tr th {\n",
       "        vertical-align: top;\n",
       "    }\n",
       "\n",
       "    .dataframe thead th {\n",
       "        text-align: right;\n",
       "    }\n",
       "</style>\n",
       "<table border=\"1\" class=\"dataframe\">\n",
       "  <thead>\n",
       "    <tr style=\"text-align: right;\">\n",
       "      <th></th>\n",
       "      <th>Unnamed: 0</th>\n",
       "      <th>verbalization</th>\n",
       "      <th>head</th>\n",
       "      <th>tail</th>\n",
       "      <th>verbalized_tail</th>\n",
       "      <th>tail_name</th>\n",
       "    </tr>\n",
       "  </thead>\n",
       "  <tbody>\n",
       "    <tr>\n",
       "      <th>58</th>\n",
       "      <td>58</td>\n",
       "      <td>predict [SEP] Henry Lange [SEP-2] German carto...</td>\n",
       "      <td>Q73364</td>\n",
       "      <td>Q64</td>\n",
       "      <td>Berlin [SEP-2] capital and largest city of Ger...</td>\n",
       "      <td>Berlin</td>\n",
       "    </tr>\n",
       "    <tr>\n",
       "      <th>435</th>\n",
       "      <td>435</td>\n",
       "      <td>predict [SEP] Los Angeles [SEP-2] county seat ...</td>\n",
       "      <td>Q65</td>\n",
       "      <td>Q821198</td>\n",
       "      <td>Berlin [SEP-2] American synthpop band</td>\n",
       "      <td>Berlin</td>\n",
       "    </tr>\n",
       "    <tr>\n",
       "      <th>626</th>\n",
       "      <td>626</td>\n",
       "      <td>predict [SEP] Agnes Bernelle [SEP-2] World War...</td>\n",
       "      <td>Q103132</td>\n",
       "      <td>Q64</td>\n",
       "      <td>Berlin [SEP-2] capital and largest city of Ger...</td>\n",
       "      <td>Berlin</td>\n",
       "    </tr>\n",
       "    <tr>\n",
       "      <th>696</th>\n",
       "      <td>696</td>\n",
       "      <td>predict [SEP] Ray Brown [SEP-2] American jazz ...</td>\n",
       "      <td>Q354542</td>\n",
       "      <td>Q1302545</td>\n",
       "      <td>Forest Lawn Memorial Park [SEP-2] cemetery in ...</td>\n",
       "      <td>Forest Lawn Memorial Park</td>\n",
       "    </tr>\n",
       "    <tr>\n",
       "      <th>1064</th>\n",
       "      <td>1064</td>\n",
       "      <td>predict [SEP] Franz Gürtner [SEP-2] Government...</td>\n",
       "      <td>Q60420</td>\n",
       "      <td>Q64</td>\n",
       "      <td>Berlin [SEP-2] capital and largest city of Ger...</td>\n",
       "      <td>Berlin</td>\n",
       "    </tr>\n",
       "    <tr>\n",
       "      <th>...</th>\n",
       "      <td>...</td>\n",
       "      <td>...</td>\n",
       "      <td>...</td>\n",
       "      <td>...</td>\n",
       "      <td>...</td>\n",
       "      <td>...</td>\n",
       "    </tr>\n",
       "    <tr>\n",
       "      <th>19588</th>\n",
       "      <td>19588</td>\n",
       "      <td>predict [SEP] Jean-Antoine de Baïf [SEP-2] Fre...</td>\n",
       "      <td>Q379941</td>\n",
       "      <td>Q641</td>\n",
       "      <td>Venice [SEP-2] city in northeastern Italy, sit...</td>\n",
       "      <td>Venice</td>\n",
       "    </tr>\n",
       "    <tr>\n",
       "      <th>19768</th>\n",
       "      <td>19768</td>\n",
       "      <td>predict [SEP] Gerard Philips [SEP-2] Dutch bus...</td>\n",
       "      <td>Q1351930</td>\n",
       "      <td>Q41795540</td>\n",
       "      <td>The Hague [SEP-2] city in South Holland</td>\n",
       "      <td>The Hague</td>\n",
       "    </tr>\n",
       "    <tr>\n",
       "      <th>19772</th>\n",
       "      <td>19772</td>\n",
       "      <td>predict [SEP] Anna Seghers [SEP-2] German writ...</td>\n",
       "      <td>Q57393</td>\n",
       "      <td>Q64</td>\n",
       "      <td>Berlin [SEP-2] capital and largest city of Ger...</td>\n",
       "      <td>Berlin</td>\n",
       "    </tr>\n",
       "    <tr>\n",
       "      <th>19990</th>\n",
       "      <td>19990</td>\n",
       "      <td>predict [SEP] Norbert Berkowitz [SEP-2]  place...</td>\n",
       "      <td>Q7050297</td>\n",
       "      <td>Q64</td>\n",
       "      <td>Berlin [SEP-2] capital and largest city of Ger...</td>\n",
       "      <td>Berlin</td>\n",
       "    </tr>\n",
       "    <tr>\n",
       "      <th>20140</th>\n",
       "      <td>20140</td>\n",
       "      <td>predict [SEP] Jakob Knoblauch [SEP-2] German a...</td>\n",
       "      <td>Q105770</td>\n",
       "      <td>Q64</td>\n",
       "      <td>Berlin [SEP-2] capital and largest city of Ger...</td>\n",
       "      <td>Berlin</td>\n",
       "    </tr>\n",
       "  </tbody>\n",
       "</table>\n",
       "<p>146 rows × 6 columns</p>\n",
       "</div>"
      ],
      "text/plain": [
       "       Unnamed: 0                                      verbalization  \\\n",
       "58             58  predict [SEP] Henry Lange [SEP-2] German carto...   \n",
       "435           435  predict [SEP] Los Angeles [SEP-2] county seat ...   \n",
       "626           626  predict [SEP] Agnes Bernelle [SEP-2] World War...   \n",
       "696           696  predict [SEP] Ray Brown [SEP-2] American jazz ...   \n",
       "1064         1064  predict [SEP] Franz Gürtner [SEP-2] Government...   \n",
       "...           ...                                                ...   \n",
       "19588       19588  predict [SEP] Jean-Antoine de Baïf [SEP-2] Fre...   \n",
       "19768       19768  predict [SEP] Gerard Philips [SEP-2] Dutch bus...   \n",
       "19772       19772  predict [SEP] Anna Seghers [SEP-2] German writ...   \n",
       "19990       19990  predict [SEP] Norbert Berkowitz [SEP-2]  place...   \n",
       "20140       20140  predict [SEP] Jakob Knoblauch [SEP-2] German a...   \n",
       "\n",
       "           head       tail                                    verbalized_tail  \\\n",
       "58       Q73364        Q64  Berlin [SEP-2] capital and largest city of Ger...   \n",
       "435         Q65    Q821198              Berlin [SEP-2] American synthpop band   \n",
       "626     Q103132        Q64  Berlin [SEP-2] capital and largest city of Ger...   \n",
       "696     Q354542   Q1302545  Forest Lawn Memorial Park [SEP-2] cemetery in ...   \n",
       "1064     Q60420        Q64  Berlin [SEP-2] capital and largest city of Ger...   \n",
       "...         ...        ...                                                ...   \n",
       "19588   Q379941       Q641  Venice [SEP-2] city in northeastern Italy, sit...   \n",
       "19768  Q1351930  Q41795540            The Hague [SEP-2] city in South Holland   \n",
       "19772    Q57393        Q64  Berlin [SEP-2] capital and largest city of Ger...   \n",
       "19990  Q7050297        Q64  Berlin [SEP-2] capital and largest city of Ger...   \n",
       "20140   Q105770        Q64  Berlin [SEP-2] capital and largest city of Ger...   \n",
       "\n",
       "                       tail_name  \n",
       "58                        Berlin  \n",
       "435                       Berlin  \n",
       "626                       Berlin  \n",
       "696    Forest Lawn Memorial Park  \n",
       "1064                      Berlin  \n",
       "...                          ...  \n",
       "19588                     Venice  \n",
       "19768                  The Hague  \n",
       "19772                     Berlin  \n",
       "19990                     Berlin  \n",
       "20140                     Berlin  \n",
       "\n",
       "[146 rows x 6 columns]"
      ]
     },
     "execution_count": 234,
     "metadata": {},
     "output_type": "execute_result"
    }
   ],
   "source": [
    "df[df['tail'].isin(set(duplicate_tail_ids))]"
   ]
  },
  {
   "cell_type": "code",
   "execution_count": 156,
   "id": "fd417224-c29d-4680-ba0d-d77175f7c1af",
   "metadata": {},
   "outputs": [
    {
     "data": {
      "text/plain": [
       "'predict [SEP] Jane Goldman [SEP-2] English screenwriter, author and producer occupation [SEP] occupation screenwriter [SEP-2] writer who writes for TV, films, comics and games [SEP] occupation writer [SEP-2] person who uses written words to communicate ideas and to produce works of literature [SEP] occupation film producer [SEP-2] person who supervises the overall process, creative and financial, of making a film [SEP] place of birth Hammersmith [SEP-2] district in west London, England [SEP] spouse Jonathan Ross [SEP-2] English television and radio presenter [SEP] inverse of spouse Jonathan Ross [SEP-2] English television and radio presenter [SEP] languages spoken, written or signed English [SEP-2] West Germanic language originating in England with linguistic roots in French, German and Vulgar Latin [SEP]'"
      ]
     },
     "execution_count": 156,
     "metadata": {},
     "output_type": "execute_result"
    }
   ],
   "source": [
    "df.iloc[0].verbalization"
   ]
  },
  {
   "cell_type": "code",
   "execution_count": 178,
   "id": "cebddac5-527b-4b77-bd4b-b6cc7425e6f9",
   "metadata": {},
   "outputs": [
    {
     "name": "stderr",
     "output_type": "stream",
     "text": [
      "/cephfs/home/bulatov/bulatov/hvdenv/lib/python3.8/site-packages/cryptography/hazmat/backends/openssl/x509.py:14: CryptographyDeprecationWarning: This version of cryptography contains a temporary pyOpenSSL fallback path. Upgrade pyOpenSSL now.\n",
      "  warnings.warn(\n"
     ]
    }
   ],
   "source": [
    "from transformers import AutoTokenizer, T5Tokenizer\n",
    "# tokenizer = AutoTokenizer.from_pretrained('t5-small')\n",
    "tokenizer = T5Tokenizer.from_pretrained('t5-small')"
   ]
  },
  {
   "cell_type": "code",
   "execution_count": 179,
   "id": "abd0d4e2-92c8-4d0b-b84f-c2140dbaacf8",
   "metadata": {},
   "outputs": [
    {
     "data": {
      "text/plain": [
       "2"
      ]
     },
     "execution_count": 179,
     "metadata": {},
     "output_type": "execute_result"
    }
   ],
   "source": [
    "tokenizer.add_tokens(['[SEP]', '[SEP-2]'])"
   ]
  },
  {
   "cell_type": "code",
   "execution_count": 180,
   "id": "7e26c2f2-ac55-41b1-9725-7e51c490e579",
   "metadata": {},
   "outputs": [
    {
     "data": {
      "text/plain": [
       "{'input_ids': [32100, 1], 'attention_mask': [1, 1]}"
      ]
     },
     "execution_count": 180,
     "metadata": {},
     "output_type": "execute_result"
    }
   ],
   "source": [
    "tokenizer('[SEP]')"
   ]
  },
  {
   "cell_type": "code",
   "execution_count": 181,
   "id": "3a7e0da7-4d64-42ab-b12f-2fca614937b2",
   "metadata": {},
   "outputs": [
    {
     "data": {
      "text/plain": [
       "{'input_ids': [27, 333, 32101, 10003, 1], 'attention_mask': [1, 1, 1, 1, 1]}"
      ]
     },
     "execution_count": 181,
     "metadata": {},
     "output_type": "execute_result"
    }
   ],
   "source": [
    "tokenizer('I love [SEP-2] cats')"
   ]
  },
  {
   "cell_type": "code",
   "execution_count": 182,
   "id": "3e758dc4-0596-4386-a4f6-33f85d4d1307",
   "metadata": {},
   "outputs": [
    {
     "data": {
      "text/plain": [
       "{'input_ids': [27, 333, 32101, 10003, 1], 'attention_mask': [1, 1, 1, 1, 1]}"
      ]
     },
     "execution_count": 182,
     "metadata": {},
     "output_type": "execute_result"
    }
   ],
   "source": [
    "tokenizer('I love[SEP-2] cats')"
   ]
  },
  {
   "cell_type": "code",
   "execution_count": 184,
   "id": "f016b581-3ffb-47a5-91b3-161d7e065f16",
   "metadata": {},
   "outputs": [
    {
     "data": {
      "text/plain": [
       "'I love [SEP-2] cats</s>'"
      ]
     },
     "execution_count": 184,
     "metadata": {},
     "output_type": "execute_result"
    }
   ],
   "source": [
    "tokenizer.decode([27, 333, 32101, 10003, 1])"
   ]
  },
  {
   "cell_type": "code",
   "execution_count": null,
   "id": "7015138c-6eb3-49e4-9b8f-ba4754425a67",
   "metadata": {},
   "outputs": [],
   "source": []
  },
  {
   "cell_type": "code",
   "execution_count": 176,
   "id": "e9e41dc4-8858-4d44-96f1-2ce0a4744c9e",
   "metadata": {},
   "outputs": [],
   "source": [
    "s = 'Vienna[SEP-2] capital and one of nine States of Austria'"
   ]
  },
  {
   "cell_type": "code",
   "execution_count": 177,
   "id": "d006f2ed-3ae2-4332-b1ce-b29fc2f10d7b",
   "metadata": {},
   "outputs": [
    {
     "data": {
      "text/plain": [
       "'Vienna'"
      ]
     },
     "execution_count": 177,
     "metadata": {},
     "output_type": "execute_result"
    }
   ],
   "source": [
    "s.split('[SEP-2]')[0].strip()"
   ]
  },
  {
   "cell_type": "code",
   "execution_count": null,
   "id": "6ca86b6b-a4d7-44ed-a58e-7e453c1396e3",
   "metadata": {},
   "outputs": [],
   "source": [
    "получится сегодня сделать датасет, где инференс"
   ]
  },
  {
   "cell_type": "code",
   "execution_count": 166,
   "id": "d14373e3-f629-4378-ba52-744b9a1b539c",
   "metadata": {},
   "outputs": [
    {
     "data": {
      "text/plain": [
       "{'input_ids': [784, 134, 4629, 908, 1], 'attention_mask': [1, 1, 1, 1, 1]}"
      ]
     },
     "execution_count": 166,
     "metadata": {},
     "output_type": "execute_result"
    }
   ],
   "source": [
    "tokenizer('[SIP]')"
   ]
  },
  {
   "cell_type": "code",
   "execution_count": 168,
   "id": "29a04291-b6d9-43aa-9961-7164465d1ae7",
   "metadata": {},
   "outputs": [
    {
     "data": {
      "text/plain": [
       "'novelist [SEP-2] writer of novels'"
      ]
     },
     "execution_count": 168,
     "metadata": {},
     "output_type": "execute_result"
    }
   ],
   "source": [
    "df.iloc[0].verbalized_tail"
   ]
  },
  {
   "cell_type": "code",
   "execution_count": 169,
   "id": "5ef1750f-4381-477c-a08c-9c407bbdc774",
   "metadata": {},
   "outputs": [
    {
     "data": {
      "text/plain": [
       "'predict [SEP] Jane Goldman [SEP-2] English screenwriter, author and producer occupation [SEP] occupation screenwriter [SEP-2] writer who writes for TV, films, comics and games [SEP] occupation writer [SEP-2] person who uses written words to communicate ideas and to produce works of literature [SEP] occupation film producer [SEP-2] person who supervises the overall process, creative and financial, of making a film [SEP] place of birth Hammersmith [SEP-2] district in west London, England [SEP] spouse Jonathan Ross [SEP-2] English television and radio presenter [SEP] inverse of spouse Jonathan Ross [SEP-2] English television and radio presenter [SEP] languages spoken, written or signed English [SEP-2] West Germanic language originating in England with linguistic roots in French, German and Vulgar Latin [SEP]'"
      ]
     },
     "execution_count": 169,
     "metadata": {},
     "output_type": "execute_result"
    }
   ],
   "source": [
    "df.verbalization[0]"
   ]
  },
  {
   "cell_type": "code",
   "execution_count": 134,
   "id": "11fba918-ccae-401e-81b4-d08285513c7b",
   "metadata": {},
   "outputs": [
    {
     "data": {
      "text/plain": [
       "'Parkinson disease long-term degenerative neurological disorder that mainly affects movement'"
      ]
     },
     "execution_count": 134,
     "metadata": {},
     "output_type": "execute_result"
    }
   ],
   "source": [
    "df.verbalized_tail[0]"
   ]
  },
  {
   "cell_type": "code",
   "execution_count": 132,
   "id": "8655010d-6e82-43f9-80cb-785a7b6d6894",
   "metadata": {},
   "outputs": [
    {
     "data": {
      "text/plain": [
       "'predict [SEP] Ferdy Mayne German actor (1916-1998) cause of death [SEP] inverse of cast member Ben-Hur 1959 American epic historical drama film by William Wyler [SEP] languages spoken, written or signed German West Germanic language [SEP]'"
      ]
     },
     "execution_count": 132,
     "metadata": {},
     "output_type": "execute_result"
    }
   ],
   "source": [
    "df.`averbalization[0]"
   ]
  },
  {
   "cell_type": "code",
   "execution_count": 101,
   "id": "94a7ad7c-d0d2-4343-99d7-0c70905a24e6",
   "metadata": {},
   "outputs": [
    {
     "data": {
      "text/plain": [
       "'predict [SEP] Richard Dawkins English ethologist, evolutionary biologist and author influenced by [SEP]'"
      ]
     },
     "execution_count": 101,
     "metadata": {},
     "output_type": "execute_result"
    }
   ],
   "source": [
    "'[SEP]'.join(df.iloc[2].verbalization.split('[SEP]')[:2]) + '[SEP]'"
   ]
  },
  {
   "cell_type": "code",
   "execution_count": 102,
   "id": "f52251ec-01ae-49a3-9353-b1dbdbe90cb2",
   "metadata": {},
   "outputs": [
    {
     "data": {
      "text/plain": [
       "'predict [SEP] Richard Dawkins English ethologist, evolutionary biologist and author influenced by [SEP] occupation biologist scientist studying living organisms [SEP] occupation actor person who acts in a dramatic or comic production and works in film, television, theatre, or radio [SEP] occupation essayist person who writes essays [SEP]'"
      ]
     },
     "execution_count": 102,
     "metadata": {},
     "output_type": "execute_result"
    }
   ],
   "source": [
    "df.iloc[2].verbalization"
   ]
  },
  {
   "cell_type": "code",
   "execution_count": null,
   "id": "fec97ca1-0115-45fa-8d3c-15a3b4a800ff",
   "metadata": {},
   "outputs": [],
   "source": []
  },
  {
   "cell_type": "code",
   "execution_count": 300,
   "id": "e0a4dccd-906c-4056-a2e9-427af84334e5",
   "metadata": {},
   "outputs": [],
   "source": [
    "class KGLMLocalDataset(Dataset):\n",
    "    def __init__(self, path, neighborhood=True, description=True, sep='[SEP]', sep2=' [SEP-2] '):\n",
    "        self.df = pd.read_csv(path)\n",
    "        self.neighborhood = neighborhood\n",
    "        self.description = description\n",
    "        self.sep = sep\n",
    "        self.sep2 = sep2\n",
    "\n",
    "    def  __getitem__(self, idx):\n",
    "        item = {}\n",
    "        triplet = self.df.iloc[idx]\n",
    "        item[\"input\"] = triplet.verbalization\n",
    "        if not self.neighborhood:\n",
    "            item[\"input\"] = self.drop_neighborhood(item[\"input\"])\n",
    "        \n",
    "        item[\"outputs\"] = triplet['verbalized_tail']\n",
    "        if not self.description:\n",
    "            item[\"outputs\"] = self.drop_description(item[\"outputs\"])\n",
    "            \n",
    "        return item\n",
    "        \n",
    "    def __len__(self):\n",
    "        return self.df.shape[0]\n",
    "            \n",
    "    \n",
    "    def drop_neighborhood(self, text):\n",
    "        return self.sep.join(text.split(self.sep)[:2]) + self.sep\n",
    "    \n",
    "    \n",
    "    def drop_description(self, text):\n",
    "        return text.split(self.sep2)[0]"
   ]
  },
  {
   "cell_type": "code",
   "execution_count": 304,
   "id": "e6f1c7ec-0c23-45d3-89a8-9d44233773fd",
   "metadata": {},
   "outputs": [],
   "source": [
    "dataset = KGLMLocalDataset(path, neighborhood=True, description=False)"
   ]
  },
  {
   "cell_type": "code",
   "execution_count": 305,
   "id": "f67057b1-c7a9-461d-83d4-0ace8302aa77",
   "metadata": {},
   "outputs": [
    {
     "data": {
      "text/plain": [
       "{'input': 'predict [SEP] Jane Goldman [SEP-2] English screenwriter, author and producer occupation [SEP] occupation screenwriter [SEP-2] writer who writes for TV, films, comics and games [SEP] occupation writer [SEP-2] person who uses written words to communicate ideas and to produce works of literature [SEP] occupation film producer [SEP-2] person who supervises the overall process, creative and financial, of making a film [SEP] place of birth Hammersmith [SEP-2] district in west London, England [SEP] spouse Jonathan Ross [SEP-2] English television and radio presenter [SEP] inverse of spouse Jonathan Ross [SEP-2] English television and radio presenter [SEP] languages spoken, written or signed English [SEP-2] West Germanic language originating in England with linguistic roots in French, German and Vulgar Latin [SEP]',\n",
       " 'outputs': 'novelist'}"
      ]
     },
     "execution_count": 305,
     "metadata": {},
     "output_type": "execute_result"
    }
   ],
   "source": [
    "dataset[0]"
   ]
  },
  {
   "cell_type": "code",
   "execution_count": 295,
   "id": "014f012a-9b4c-49eb-91aa-fe3515cdbac5",
   "metadata": {},
   "outputs": [
    {
     "data": {
      "text/plain": [
       "(20358, 6)"
      ]
     },
     "execution_count": 295,
     "metadata": {},
     "output_type": "execute_result"
    }
   ],
   "source": [
    "df.shape"
   ]
  },
  {
   "cell_type": "code",
   "execution_count": 127,
   "id": "269ea47f-b017-4a47-b257-b25cbe31a749",
   "metadata": {},
   "outputs": [
    {
     "data": {
      "text/plain": [
       "5816"
      ]
     },
     "execution_count": 127,
     "metadata": {},
     "output_type": "execute_result"
    }
   ],
   "source": [
    "len(dataset)"
   ]
  },
  {
   "cell_type": "code",
   "execution_count": 123,
   "id": "05d4682e-4675-42e2-8575-0de17c78d399",
   "metadata": {},
   "outputs": [
    {
     "data": {
      "text/plain": [
       "{'input': 'predict [SEP] Magdeburg federated state capital city of Saxony-Anhalt, Germany country [SEP] located in the administrative territorial entity Kingdom of Prussia former German state (1701–1918) [SEP] inverse of place of birth Johann Joachim Schwabe German poet [SEP] inverse of place of birth Georg Gradnauer German politician [SEP] inverse of place of death Michael Maier German physician and alchemist [SEP] member of Climate Alliance organization [SEP]',\n",
       " 'outputs': 'Holy Roman Empire varying complex of lands that existed from 962 to 1806 in Central Europe'}"
      ]
     },
     "execution_count": 123,
     "metadata": {},
     "output_type": "execute_result"
    }
   ],
   "source": [
    "import random\n",
    "i = random.randint(0, 1000)\n",
    "dataset[i]"
   ]
  },
  {
   "cell_type": "code",
   "execution_count": 45,
   "id": "e978f7a1-6bff-444d-be2c-7f876245f165",
   "metadata": {},
   "outputs": [],
   "source": [
    "dl = DataLoader(df)"
   ]
  },
  {
   "cell_type": "code",
   "execution_count": 46,
   "id": "ca9cfbbf-8e09-458a-86f4-c0597ba2213b",
   "metadata": {},
   "outputs": [],
   "source": [
    "gen = iter(dl)"
   ]
  },
  {
   "cell_type": "markdown",
   "id": "92ea11a7-9889-4c0c-a3bb-e790f642d40f",
   "metadata": {},
   "source": [
    "### sacreBLEU"
   ]
  },
  {
   "cell_type": "code",
   "execution_count": 198,
   "id": "13ca6635-930c-4203-ac72-bc7db66ecf66",
   "metadata": {},
   "outputs": [],
   "source": [
    "from sacrebleu.metrics import BLEU, CHRF, TER\n",
    "refs = [ # First set of references\n",
    "             ['The dog bit the man.', 'It was not unexpected.', 'The man bit him first.'],\n",
    "             # Second set of references\n",
    "             ['The dog had bit the man.', 'No one was surprised.', 'The man had bitten the dog.'],\n",
    "           ]\n",
    "sys = ['The dog bit the man.', \"It wasn't surprising.\", 'The man had just bitten him.']"
   ]
  },
  {
   "cell_type": "code",
   "execution_count": 201,
   "id": "f6023305-b550-4fba-8264-87be04f04c8e",
   "metadata": {},
   "outputs": [
    {
     "ename": "AttributeError",
     "evalue": "'list' object has no attribute 'force'",
     "output_type": "error",
     "traceback": [
      "\u001b[0;31m---------------------------------------------------------------------------\u001b[0m",
      "\u001b[0;31mAttributeError\u001b[0m                            Traceback (most recent call last)",
      "Input \u001b[0;32mIn [201]\u001b[0m, in \u001b[0;36m<cell line: 1>\u001b[0;34m()\u001b[0m\n\u001b[0;32m----> 1\u001b[0m \u001b[43mBLEU\u001b[49m\u001b[43m(\u001b[49m\u001b[43margs\u001b[49m\u001b[38;5;241;43m=\u001b[39;49m\u001b[43m[\u001b[49m\u001b[43m]\u001b[49m\u001b[43m)\u001b[49m\n",
      "File \u001b[0;32m/cephfs/home/bulatov/bulatov/hvdenv/lib/python3.8/site-packages/sacrebleu/metrics/bleu.py:94\u001b[0m, in \u001b[0;36mBLEU.__init__\u001b[0;34m(self, args)\u001b[0m\n\u001b[1;32m     92\u001b[0m \u001b[38;5;28;01mdef\u001b[39;00m \u001b[38;5;21m__init__\u001b[39m(\u001b[38;5;28mself\u001b[39m, args):\n\u001b[1;32m     93\u001b[0m     \u001b[38;5;28mself\u001b[39m\u001b[38;5;241m.\u001b[39mname \u001b[38;5;241m=\u001b[39m \u001b[38;5;124m'\u001b[39m\u001b[38;5;124mbleu\u001b[39m\u001b[38;5;124m'\u001b[39m\n\u001b[0;32m---> 94\u001b[0m     \u001b[38;5;28mself\u001b[39m\u001b[38;5;241m.\u001b[39mforce \u001b[38;5;241m=\u001b[39m \u001b[43margs\u001b[49m\u001b[38;5;241;43m.\u001b[39;49m\u001b[43mforce\u001b[49m\n\u001b[1;32m     95\u001b[0m     \u001b[38;5;28mself\u001b[39m\u001b[38;5;241m.\u001b[39mlc \u001b[38;5;241m=\u001b[39m args\u001b[38;5;241m.\u001b[39mlc\n\u001b[1;32m     96\u001b[0m     \u001b[38;5;28mself\u001b[39m\u001b[38;5;241m.\u001b[39msmooth_value \u001b[38;5;241m=\u001b[39m args\u001b[38;5;241m.\u001b[39msmooth_value\n",
      "\u001b[0;31mAttributeError\u001b[0m: 'list' object has no attribute 'force'"
     ]
    }
   ],
   "source": [
    "BLEU(args=[])"
   ]
  },
  {
   "cell_type": "code",
   "execution_count": 199,
   "id": "7439174e-1c61-4162-bc49-25c801d104e7",
   "metadata": {},
   "outputs": [
    {
     "ename": "TypeError",
     "evalue": "__init__() missing 1 required positional argument: 'args'",
     "output_type": "error",
     "traceback": [
      "\u001b[0;31m---------------------------------------------------------------------------\u001b[0m",
      "\u001b[0;31mTypeError\u001b[0m                                 Traceback (most recent call last)",
      "Input \u001b[0;32mIn [199]\u001b[0m, in \u001b[0;36m<cell line: 1>\u001b[0;34m()\u001b[0m\n\u001b[0;32m----> 1\u001b[0m bleu \u001b[38;5;241m=\u001b[39m \u001b[43mBLEU\u001b[49m\u001b[43m(\u001b[49m\u001b[43m)\u001b[49m\n\u001b[1;32m      3\u001b[0m bleu\u001b[38;5;241m.\u001b[39mcorpus_score(sys, refs)\n",
      "\u001b[0;31mTypeError\u001b[0m: __init__() missing 1 required positional argument: 'args'"
     ]
    }
   ],
   "source": [
    "bleu = BLEU()\n",
    "\n",
    "bleu.corpus_score(sys, refs)"
   ]
  },
  {
   "cell_type": "code",
   "execution_count": null,
   "id": "6e61dac6-2c2a-42b6-830e-aee0e8bb585f",
   "metadata": {},
   "outputs": [],
   "source": [
    "Out[3]: BLEU = 48.53 82.4/50.0/45.5/37.5 (BP = 0.943 ratio = 0.944 hyp_len = 17 ref_len = 18)\n",
    "\n",
    "In [4]: bleu.get_signature()\n",
    "Out[4]: nrefs:2|case:mixed|eff:no|tok:13a|smooth:exp|version:2.0.0\n",
    "\n",
    "In [5]: chrf = CHRF()\n",
    "\n",
    "In [6]: chrf.corpus_score(sys, refs)\n",
    "Out[6]: chrF2 = 59.73"
   ]
  },
  {
   "cell_type": "markdown",
   "id": "b16c4edf-688d-4d2e-907b-0275342e2775",
   "metadata": {},
   "source": [
    "### f1 metric"
   ]
  },
  {
   "cell_type": "code",
   "execution_count": 185,
   "id": "266513e9-dd3f-4504-a2be-db454862b342",
   "metadata": {},
   "outputs": [],
   "source": [
    "from sklearn.metrics import f1_score, roug"
   ]
  },
  {
   "cell_type": "code",
   "execution_count": 247,
   "id": "71f3d3c5-98ad-4518-bf02-d9a6de072cca",
   "metadata": {},
   "outputs": [],
   "source": [
    "encode_plus_kwargs = {'truncation': True, 'padding': 'longest', 'pad_to_multiple_of': 1}"
   ]
  },
  {
   "cell_type": "code",
   "execution_count": null,
   "id": "93932377-5a51-4ba6-bf55-efa61919efdb",
   "metadata": {},
   "outputs": [],
   "source": []
  },
  {
   "cell_type": "code",
   "execution_count": 186,
   "id": "8fc19b45-30a1-4f09-9bb6-932559204d14",
   "metadata": {},
   "outputs": [],
   "source": [
    "y = torch.ones(1, 10)\n",
    "p = torch.ones(1, 10)\n",
    "p[:, :3] = 0"
   ]
  },
  {
   "cell_type": "code",
   "execution_count": 190,
   "id": "84b4f4d5-6a18-43d5-bc84-bb04e002d553",
   "metadata": {},
   "outputs": [],
   "source": [
    "y = ['eat more of', 'these french pies', 'and drink some tea']\n",
    "p = ['eat some more of', 'these french pies', 'and drink some tea']"
   ]
  },
  {
   "cell_type": "code",
   "execution_count": 272,
   "id": "f1ae87e7-96c0-4a17-b0b9-6eba9a1e3d3c",
   "metadata": {},
   "outputs": [],
   "source": [
    "# encoded_y = tokenizer.batch_encode_plus(y, **encode_plus_kwargs, return_tensors='pt')['input_ids']\n",
    "# encoded_p = tokenizer.batch_encode_plus(p, **encode_plus_kwargs, return_tensors='pt')['input_ids']\n",
    "encoded_y = tokenizer.batch_encode_plus(y, **encode_plus_kwargs)['input_ids']\n",
    "encoded_p = tokenizer.batch_encode_plus(p, **encode_plus_kwargs)['input_ids']"
   ]
  },
  {
   "cell_type": "code",
   "execution_count": 261,
   "id": "1c4c239a-6e16-4a79-8376-77001f8830a7",
   "metadata": {},
   "outputs": [],
   "source": [
    "# f1_score(encoded_y, encoded_p)"
   ]
  },
  {
   "cell_type": "code",
   "execution_count": 267,
   "id": "b6203772-38cb-44c3-a40f-53d4321edd73",
   "metadata": {},
   "outputs": [],
   "source": [
    "rouge = datasets.load_metric('rouge')\n",
    "\n",
    "rouge.add_batch(references=encoded_y, predictions=encoded_p)\n",
    "out_rouge = rouge.compute()"
   ]
  },
  {
   "cell_type": "code",
   "execution_count": 269,
   "id": "0b731f6b-7800-4c9e-99ad-6058f5e2cbca",
   "metadata": {},
   "outputs": [
    {
     "data": {
      "text/plain": [
       "AggregateScore(low=Score(precision=0.8333333333333334, recall=1.0, fmeasure=0.9090909090909091), mid=Score(precision=0.8333333333333334, recall=1.0, fmeasure=0.9090909090909091), high=Score(precision=0.8333333333333334, recall=1.0, fmeasure=0.9090909090909091))"
      ]
     },
     "execution_count": 275,
     "metadata": {},
     "output_type": "execute_result"
    }
   ],
   "source": [
    "out_rouge['rougeLsum']."
   ]
  },
  {
   "cell_type": "code",
   "execution_count": null,
   "id": "74fe99dd-0cae-4192-b9a6-89e02f72b291",
   "metadata": {},
   "outputs": [
    {
     "data": {
      "text/plain": [
       "{'rouge1': AggregateScore(low=Score(precision=0.8333333333333334, recall=1.0, fmeasure=0.9090909090909091), mid=Score(precision=0.8333333333333334, recall=1.0, fmeasure=0.9090909090909091), high=Score(precision=0.8333333333333334, recall=1.0, fmeasure=0.9090909090909091)),\n",
       " 'rouge2': AggregateScore(low=Score(precision=0.6, recall=0.75, fmeasure=0.6666666666666665), mid=Score(precision=0.7333333333333334, recall=0.9166666666666666, fmeasure=0.8148148148148148), high=Score(precision=0.8000000000000002, recall=1.0, fmeasure=0.888888888888889)),\n",
       " 'rougeL': AggregateScore(low=Score(precision=0.8333333333333334, recall=1.0, fmeasure=0.9090909090909091), mid=Score(precision=0.8333333333333334, recall=1.0, fmeasure=0.9090909090909091), high=Score(precision=0.8333333333333334, recall=1.0, fmeasure=0.9090909090909091)),\n",
       " 'rougeLsum': AggregateScore(low=Score(precision=0.8333333333333334, recall=1.0, fmeasure=0.9090909090909091), mid=Score(precision=0.8333333333333334, recall=1.0, fmeasure=0.9090909090909091), high=Score(precision=0.8333333333333334, recall=1.0, fmeasure=0.9090909090909091))}"
      ]
     },
     "execution_count": 263,
     "metadata": {},
     "output_type": "execute_result"
    }
   ],
   "source": []
  },
  {
   "cell_type": "code",
   "execution_count": 192,
   "id": "8acff51b-5f43-46fe-83ce-8e6b01e6bf27",
   "metadata": {},
   "outputs": [],
   "source": [
    "import datasets"
   ]
  },
  {
   "cell_type": "code",
   "execution_count": 197,
   "id": "4dbf6ef7-7b6f-4a4c-95f8-53f1d5411580",
   "metadata": {},
   "outputs": [
    {
     "name": "stderr",
     "output_type": "stream",
     "text": [
      "/cephfs/home/bulatov/bulatov/hvdenv/lib/python3.8/site-packages/cryptography/hazmat/backends/openssl/x509.py:14: CryptographyDeprecationWarning: This version of cryptography contains a temporary pyOpenSSL fallback path. Upgrade pyOpenSSL now.\n",
      "  warnings.warn(\n"
     ]
    },
    {
     "ename": "ValueError",
     "evalue": "invalid literal for int() with base 10: 'eat some more of'",
     "output_type": "error",
     "traceback": [
      "\u001b[0;31m---------------------------------------------------------------------------\u001b[0m",
      "\u001b[0;31mValueError\u001b[0m                                Traceback (most recent call last)",
      "Input \u001b[0;32mIn [197]\u001b[0m, in \u001b[0;36m<cell line: 3>\u001b[0;34m()\u001b[0m\n\u001b[1;32m      1\u001b[0m f1 \u001b[38;5;241m=\u001b[39m datasets\u001b[38;5;241m.\u001b[39mload_metric(\u001b[38;5;124m'\u001b[39m\u001b[38;5;124mf1\u001b[39m\u001b[38;5;124m'\u001b[39m)\n\u001b[0;32m----> 3\u001b[0m \u001b[43mf1\u001b[49m\u001b[38;5;241;43m.\u001b[39;49m\u001b[43madd_batch\u001b[49m\u001b[43m(\u001b[49m\u001b[43mreferences\u001b[49m\u001b[38;5;241;43m=\u001b[39;49m\u001b[43my\u001b[49m\u001b[43m,\u001b[49m\u001b[43m \u001b[49m\u001b[43mpredictions\u001b[49m\u001b[38;5;241;43m=\u001b[39;49m\u001b[43mp\u001b[49m\u001b[43m)\u001b[49m\n",
      "File \u001b[0;32m/cephfs/home/bulatov/bulatov/hvdenv/lib/python3.8/site-packages/datasets/metric.py:463\u001b[0m, in \u001b[0;36mMetric.add_batch\u001b[0;34m(self, predictions, references, **kwargs)\u001b[0m\n\u001b[1;32m    461\u001b[0m batch \u001b[38;5;241m=\u001b[39m {\u001b[38;5;124m\"\u001b[39m\u001b[38;5;124mpredictions\u001b[39m\u001b[38;5;124m\"\u001b[39m: predictions, \u001b[38;5;124m\"\u001b[39m\u001b[38;5;124mreferences\u001b[39m\u001b[38;5;124m\"\u001b[39m: references, \u001b[38;5;241m*\u001b[39m\u001b[38;5;241m*\u001b[39mkwargs}\n\u001b[1;32m    462\u001b[0m batch \u001b[38;5;241m=\u001b[39m {intput_name: batch[intput_name] \u001b[38;5;28;01mfor\u001b[39;00m intput_name \u001b[38;5;129;01min\u001b[39;00m \u001b[38;5;28mself\u001b[39m\u001b[38;5;241m.\u001b[39mfeatures}\n\u001b[0;32m--> 463\u001b[0m batch \u001b[38;5;241m=\u001b[39m \u001b[38;5;28;43mself\u001b[39;49m\u001b[38;5;241;43m.\u001b[39;49m\u001b[43minfo\u001b[49m\u001b[38;5;241;43m.\u001b[39;49m\u001b[43mfeatures\u001b[49m\u001b[38;5;241;43m.\u001b[39;49m\u001b[43mencode_batch\u001b[49m\u001b[43m(\u001b[49m\u001b[43mbatch\u001b[49m\u001b[43m)\u001b[49m\n\u001b[1;32m    464\u001b[0m \u001b[38;5;28;01mif\u001b[39;00m \u001b[38;5;28mself\u001b[39m\u001b[38;5;241m.\u001b[39mwriter \u001b[38;5;129;01mis\u001b[39;00m \u001b[38;5;28;01mNone\u001b[39;00m:\n\u001b[1;32m    465\u001b[0m     \u001b[38;5;28mself\u001b[39m\u001b[38;5;241m.\u001b[39m_init_writer()\n",
      "File \u001b[0;32m/cephfs/home/bulatov/bulatov/hvdenv/lib/python3.8/site-packages/datasets/features/features.py:1440\u001b[0m, in \u001b[0;36mFeatures.encode_batch\u001b[0;34m(self, batch)\u001b[0m\n\u001b[1;32m   1438\u001b[0m \u001b[38;5;28;01mfor\u001b[39;00m key, column \u001b[38;5;129;01min\u001b[39;00m batch\u001b[38;5;241m.\u001b[39mitems():\n\u001b[1;32m   1439\u001b[0m     column \u001b[38;5;241m=\u001b[39m cast_to_python_objects(column)\n\u001b[0;32m-> 1440\u001b[0m     encoded_batch[key] \u001b[38;5;241m=\u001b[39m [encode_nested_example(\u001b[38;5;28mself\u001b[39m[key], obj) \u001b[38;5;28;01mfor\u001b[39;00m obj \u001b[38;5;129;01min\u001b[39;00m column]\n\u001b[1;32m   1441\u001b[0m \u001b[38;5;28;01mreturn\u001b[39;00m encoded_batch\n",
      "File \u001b[0;32m/cephfs/home/bulatov/bulatov/hvdenv/lib/python3.8/site-packages/datasets/features/features.py:1440\u001b[0m, in \u001b[0;36m<listcomp>\u001b[0;34m(.0)\u001b[0m\n\u001b[1;32m   1438\u001b[0m \u001b[38;5;28;01mfor\u001b[39;00m key, column \u001b[38;5;129;01min\u001b[39;00m batch\u001b[38;5;241m.\u001b[39mitems():\n\u001b[1;32m   1439\u001b[0m     column \u001b[38;5;241m=\u001b[39m cast_to_python_objects(column)\n\u001b[0;32m-> 1440\u001b[0m     encoded_batch[key] \u001b[38;5;241m=\u001b[39m [\u001b[43mencode_nested_example\u001b[49m\u001b[43m(\u001b[49m\u001b[38;5;28;43mself\u001b[39;49m\u001b[43m[\u001b[49m\u001b[43mkey\u001b[49m\u001b[43m]\u001b[49m\u001b[43m,\u001b[49m\u001b[43m \u001b[49m\u001b[43mobj\u001b[49m\u001b[43m)\u001b[49m \u001b[38;5;28;01mfor\u001b[39;00m obj \u001b[38;5;129;01min\u001b[39;00m column]\n\u001b[1;32m   1441\u001b[0m \u001b[38;5;28;01mreturn\u001b[39;00m encoded_batch\n",
      "File \u001b[0;32m/cephfs/home/bulatov/bulatov/hvdenv/lib/python3.8/site-packages/datasets/features/features.py:1065\u001b[0m, in \u001b[0;36mencode_nested_example\u001b[0;34m(schema, obj, level)\u001b[0m\n\u001b[1;32m   1062\u001b[0m \u001b[38;5;66;03m# Object with special encoding:\u001b[39;00m\n\u001b[1;32m   1063\u001b[0m \u001b[38;5;66;03m# ClassLabel will convert from string to int, TranslationVariableLanguages does some checks\u001b[39;00m\n\u001b[1;32m   1064\u001b[0m \u001b[38;5;28;01melif\u001b[39;00m \u001b[38;5;28misinstance\u001b[39m(schema, (Audio, Image, ClassLabel, TranslationVariableLanguages, Value, _ArrayXD)):\n\u001b[0;32m-> 1065\u001b[0m     \u001b[38;5;28;01mreturn\u001b[39;00m \u001b[43mschema\u001b[49m\u001b[38;5;241;43m.\u001b[39;49m\u001b[43mencode_example\u001b[49m\u001b[43m(\u001b[49m\u001b[43mobj\u001b[49m\u001b[43m)\u001b[49m \u001b[38;5;28;01mif\u001b[39;00m obj \u001b[38;5;129;01mis\u001b[39;00m \u001b[38;5;129;01mnot\u001b[39;00m \u001b[38;5;28;01mNone\u001b[39;00m \u001b[38;5;28;01melse\u001b[39;00m \u001b[38;5;28;01mNone\u001b[39;00m\n\u001b[1;32m   1066\u001b[0m \u001b[38;5;66;03m# Other object should be directly convertible to a native Arrow type (like Translation and Translation)\u001b[39;00m\n\u001b[1;32m   1067\u001b[0m \u001b[38;5;28;01mreturn\u001b[39;00m obj\n",
      "File \u001b[0;32m/cephfs/home/bulatov/bulatov/hvdenv/lib/python3.8/site-packages/datasets/features/features.py:454\u001b[0m, in \u001b[0;36mValue.encode_example\u001b[0;34m(self, value)\u001b[0m\n\u001b[1;32m    452\u001b[0m     \u001b[38;5;28;01mreturn\u001b[39;00m \u001b[38;5;28mbool\u001b[39m(value)\n\u001b[1;32m    453\u001b[0m \u001b[38;5;28;01melif\u001b[39;00m pa\u001b[38;5;241m.\u001b[39mtypes\u001b[38;5;241m.\u001b[39mis_integer(\u001b[38;5;28mself\u001b[39m\u001b[38;5;241m.\u001b[39mpa_type):\n\u001b[0;32m--> 454\u001b[0m     \u001b[38;5;28;01mreturn\u001b[39;00m \u001b[38;5;28;43mint\u001b[39;49m\u001b[43m(\u001b[49m\u001b[43mvalue\u001b[49m\u001b[43m)\u001b[49m\n\u001b[1;32m    455\u001b[0m \u001b[38;5;28;01melif\u001b[39;00m pa\u001b[38;5;241m.\u001b[39mtypes\u001b[38;5;241m.\u001b[39mis_floating(\u001b[38;5;28mself\u001b[39m\u001b[38;5;241m.\u001b[39mpa_type):\n\u001b[1;32m    456\u001b[0m     \u001b[38;5;28;01mreturn\u001b[39;00m \u001b[38;5;28mfloat\u001b[39m(value)\n",
      "\u001b[0;31mValueError\u001b[0m: invalid literal for int() with base 10: 'eat some more of'"
     ]
    }
   ],
   "source": [
    "f1 = datasets.load_metric('f1')\n",
    "\n",
    "f1.add_batch(references=y, predictions=p)"
   ]
  },
  {
   "cell_type": "code",
   "execution_count": null,
   "id": "408ed29e-5bcc-4163-b6e9-ec387d67df16",
   "metadata": {},
   "outputs": [],
   "source": [
    "f1."
   ]
  },
  {
   "cell_type": "code",
   "execution_count": 191,
   "id": "556d73e8-54ee-4148-9570-5571c7a59ff7",
   "metadata": {},
   "outputs": [
    {
     "data": {
      "text/plain": [
       "0.6666666666666666"
      ]
     },
     "execution_count": 191,
     "metadata": {},
     "output_type": "execute_result"
    }
   ],
   "source": [
    "# f1_score(y, p, average='micro')"
   ]
  },
  {
   "cell_type": "code",
   "execution_count": 145,
   "id": "3d922c7a-48a0-46fe-90b9-aa79e8ecc7e1",
   "metadata": {},
   "outputs": [
    {
     "data": {
      "text/plain": [
       "0.8235294117647058"
      ]
     },
     "execution_count": 145,
     "metadata": {},
     "output_type": "execute_result"
    }
   ],
   "source": [
    "f1_score(y, p, average='samples')"
   ]
  },
  {
   "cell_type": "code",
   "execution_count": 135,
   "id": "f60e5fa2-da12-4db9-9465-b3cf106b3194",
   "metadata": {},
   "outputs": [],
   "source": [
    "# from torch.utils.data import CSVDataset"
   ]
  },
  {
   "cell_type": "code",
   "execution_count": 3,
   "id": "00abf7c1-5868-4c75-a8c0-83e5bd52e884",
   "metadata": {},
   "outputs": [
    {
     "name": "stderr",
     "output_type": "stream",
     "text": [
      "/cephfs/home/bulatov/bulatov/hvdenv/lib/python3.8/site-packages/cryptography/hazmat/backends/openssl/x509.py:14: CryptographyDeprecationWarning: This version of cryptography contains a temporary pyOpenSSL fallback path. Upgrade pyOpenSSL now.\n",
      "  warnings.warn(\n"
     ]
    }
   ],
   "source": [
    "from transformers import AutoTokenizer\n",
    "tokenizer = AutoTokenizer.from_pretrained('t5-small')"
   ]
  },
  {
   "cell_type": "code",
   "execution_count": 4,
   "id": "412a0e27-1f07-4cff-832d-3d3ad94fb5aa",
   "metadata": {},
   "outputs": [],
   "source": [
    "class Holder:\n",
    "    def __init__(self):\n",
    "        pass"
   ]
  },
  {
   "cell_type": "code",
   "execution_count": 5,
   "id": "9340dd7c-5cdb-4c51-9770-9f97ce1c3169",
   "metadata": {},
   "outputs": [],
   "source": [
    "args = Holder()\n",
    "args.target_seq_len = 512\n",
    "args.input_seq_len = 512\n",
    "args.input_prefix = ''"
   ]
  },
  {
   "cell_type": "code",
   "execution_count": 6,
   "id": "31a1dfb5-cae9-43b4-9fe9-2fb0946e4ee4",
   "metadata": {},
   "outputs": [],
   "source": [
    "encode_plus_kwargs = {'truncation': True, 'padding': 'longest', 'pad_to_multiple_of': 1}"
   ]
  },
  {
   "cell_type": "code",
   "execution_count": 7,
   "id": "86c90065-b7af-4bb3-807d-00c3081b52de",
   "metadata": {},
   "outputs": [],
   "source": [
    "def collate_fn(batch):\n",
    "    # cut too long strings because they may slow down tokenization\n",
    "    inputs = [b['input'][:args.input_seq_len * 10] for b in batch]\n",
    "    print('inputs', inputs)\n",
    "    if 'outputs' in batch[0]:\n",
    "        # if we have more than 1 label per example (only in valid) take only one of them\n",
    "        # to compute loss on valid\n",
    "        labels = [b['outputs'][0][:args.target_seq_len * 10] for b in batch]\n",
    "    else:\n",
    "        labels = [b['output'][:args.target_seq_len * 10] for b in batch]\n",
    "    if args.input_prefix:\n",
    "        inputs = [args.input_prefix + inp for inp in inputs]\n",
    "    features = tokenizer.batch_encode_plus(list(inputs), max_length=args.input_seq_len, return_tensors='pt',\n",
    "                                           **encode_plus_kwargs)\n",
    "    with tokenizer.as_target_tokenizer():\n",
    "        labels = tokenizer.batch_encode_plus(list(labels), max_length=args.target_seq_len, return_tensors='pt',\n",
    "                                             **encode_plus_kwargs).input_ids\n",
    "    labels[labels == tokenizer.pad_token_id] = -100\n",
    "    features['labels'] = labels\n",
    "    # features['id'] = [b['id'] for b in batch]\n",
    "    if 'outputs' in batch[0]:\n",
    "        features['target_text'] = [b['outputs'] for b in batch]\n",
    "    else:\n",
    "        features['target_text'] = [b['output'] for b in batch]\n",
    "    if 'global_attention_mask' in features:\n",
    "        raise RuntimeError('What global attention mask for Longformer and LongformerEncoder-Decoder should be?')\n",
    "    return features"
   ]
  },
  {
   "cell_type": "code",
   "execution_count": 10,
   "id": "d866000a-ca53-4acb-942c-96d47a17f28f",
   "metadata": {},
   "outputs": [],
   "source": [
    "DB_PORTPORT = 15015\n",
    "train_dataset = KGLMDataset(DB_PORT, 'KGLM', 'train', neighborhood=True)"
   ]
  },
  {
   "cell_type": "code",
   "execution_count": 11,
   "id": "7f8b708f-1b83-46ad-b9c0-d15444fe18e6",
   "metadata": {},
   "outputs": [
    {
     "data": {
      "text/plain": [
       "{'_id': '0',\n",
       " 'head': 'Q29387131',\n",
       " 'relation': 'P31',\n",
       " 'tail': 'Q5',\n",
       " 'verbalization': 'predict [SEP] Lalit Kumar Goel instance of [SEP] ',\n",
       " 'target': 'human'}"
      ]
     },
     "execution_count": 11,
     "metadata": {},
     "output_type": "execute_result"
    }
   ],
   "source": [
    "train_dataset.collection.find_one()"
   ]
  },
  {
   "cell_type": "code",
   "execution_count": 9,
   "id": "b9e42844-a42b-41b9-b293-380851064ac4",
   "metadata": {},
   "outputs": [],
   "source": [
    "train_sampler = RandomSampler(train_dataset)\n",
    "kwargs = {'pin_memory': True, }\n",
    "train_dataloader = DataLoader(train_dataset, batch_size=2, sampler=train_sampler,\n",
    "                              collate_fn=collate_fn, **kwargs)"
   ]
  },
  {
   "cell_type": "code",
   "execution_count": 22,
   "id": "8dd53613-5f30-43a7-a4cb-dbd554de5db0",
   "metadata": {},
   "outputs": [
    {
     "data": {
      "text/plain": [
       "[{'name': 'KGLM', 'sizeOnDisk': 5886840832, 'empty': False},\n",
       " {'name': 'KGLM-inductive', 'sizeOnDisk': 1347354624, 'empty': False},\n",
       " {'name': 'admin', 'sizeOnDisk': 40960, 'empty': False},\n",
       " {'name': 'config', 'sizeOnDisk': 73728, 'empty': False},\n",
       " {'name': 'local', 'sizeOnDisk': 73728, 'empty': False}]"
      ]
     },
     "execution_count": 22,
     "metadata": {},
     "output_type": "execute_result"
    }
   ],
   "source": [
    "list(client.list_databases())"
   ]
  },
  {
   "cell_type": "code",
   "execution_count": 25,
   "id": "82099c02-4f30-493d-b975-37734a09ef1f",
   "metadata": {},
   "outputs": [
    {
     "data": {
      "text/plain": [
       "{'_id': ObjectId('637ca5613c82960d48908165'),\n",
       " 'head': 'Q5142631',\n",
       " 'relation': 'P159',\n",
       " 'tail': 'Q3141'}"
      ]
     },
     "execution_count": 25,
     "metadata": {},
     "output_type": "execute_result"
    }
   ],
   "source": [
    "client = MongoClient('localhost', 15017)\n",
    "collection = client[\"KGLM-inductive\"]['train']\n",
    "collection.find_one()"
   ]
  },
  {
   "cell_type": "code",
   "execution_count": 24,
   "id": "15440bdc-edeb-4fef-ac57-0f92d2aa4615",
   "metadata": {},
   "outputs": [
    {
     "data": {
      "text/plain": [
       "{'_id': '0',\n",
       " 'head': 'Q29387131',\n",
       " 'relation': 'P31',\n",
       " 'tail': 'Q5',\n",
       " 'verbalization': 'predict [SEP] Lalit Kumar Goel instance of [SEP] ',\n",
       " 'target': 'human'}"
      ]
     },
     "execution_count": 24,
     "metadata": {},
     "output_type": "execute_result"
    }
   ],
   "source": [
    "client = MongoClient('localhost', 15017)\n",
    "collection = client[\"KGLM\"]['train']\n",
    "collection.find_one()"
   ]
  },
  {
   "cell_type": "code",
   "execution_count": 10,
   "id": "9b8b9021-ef67-4757-9e3e-e8434feaf087",
   "metadata": {},
   "outputs": [],
   "source": [
    "# b = train_dataset[10]"
   ]
  },
  {
   "cell_type": "code",
   "execution_count": 11,
   "id": "39bb2390-cd73-4ec7-bbea-2477be5a564b",
   "metadata": {},
   "outputs": [
    {
     "name": "stdout",
     "output_type": "stream",
     "text": [
      "{'_id': '19599398', 'head': 'Q16325376', 'relation': 'P17', 'tail': 'Q794', 'verbalization': 'predict [SEP] Nazhvan Recreational Complex country [SEP] ', 'target': 'Iran'}\n",
      "{'_id': '20226282', 'head': 'Q3313042', 'relation': 'P2416', 'tail': 'Q165704', 'verbalization': 'predict [SEP] Miguel Ángel Sancho sports discipline competed in [SEP] sport athletics [SEP] country of citizenship Spain [SEP] instance of human [SEP] place of birth Valencia [SEP]', 'target': 'high jump'}\n",
      "inputs ['predict [SEP] Nazhvan Recreational Complex country ', 'predict [SEP] Miguel Ángel Sancho sports discipline competed in ']\n"
     ]
    }
   ],
   "source": [
    "gen = iter(train_dataloader)\n",
    "sample = next(gen)"
   ]
  },
  {
   "cell_type": "code",
   "execution_count": null,
   "id": "76655218-38a7-4c99-b699-8fcc96802793",
   "metadata": {},
   "outputs": [],
   "source": [
    "train_dataset[1]"
   ]
  },
  {
   "cell_type": "code",
   "execution_count": null,
   "id": "c893966d-d7db-4a2b-b2fb-423d75519784",
   "metadata": {},
   "outputs": [],
   "source": [
    "sample['labels']"
   ]
  },
  {
   "cell_type": "code",
   "execution_count": null,
   "id": "cad50ee8-b8e3-4e87-98c6-6c9d6d2e5bd7",
   "metadata": {},
   "outputs": [],
   "source": [
    "tokenizer(sample['target_text'])"
   ]
  },
  {
   "cell_type": "code",
   "execution_count": null,
   "id": "10563c37-7988-46b8-9557-9ee25b917f82",
   "metadata": {},
   "outputs": [],
   "source": [
    "tokenizer.batch_decode(sample['labels'])"
   ]
  },
  {
   "cell_type": "code",
   "execution_count": null,
   "id": "2a7fd950-6810-4678-97db-b3e882bad158",
   "metadata": {},
   "outputs": [],
   "source": [
    "batch = [train_dataset[0]]"
   ]
  },
  {
   "cell_type": "code",
   "execution_count": 19,
   "id": "96751f79-d258-4472-8a11-0370f68fc2c7",
   "metadata": {},
   "outputs": [
    {
     "name": "stdout",
     "output_type": "stream",
     "text": [
      "tensor([[936,   1]])\n"
     ]
    }
   ],
   "source": [
    "inputs = [b['input'][:args.input_seq_len * 10] for b in batch]\n",
    "if 'outputs' in batch[0]:\n",
    "    # if we have more than 1 label per example (only in valid) take only one of them\n",
    "    # to compute loss on valid\n",
    "    labels = [b['outputs'][:args.target_seq_len * 10] for b in batch]\n",
    "else:\n",
    "    labels = [b['output'][:args.target_seq_len * 10] for b in batch]\n",
    "if args.input_prefix:\n",
    "    inputs = [args.input_prefix + inp for inp in inputs]\n",
    "features = tokenizer.batch_encode_plus(list(inputs), max_length=args.input_seq_len, return_tensors='pt',\n",
    "                                       **encode_plus_kwargs)\n",
    "with tokenizer.as_target_tokenizer():\n",
    "    labels = tokenizer.batch_encode_plus(list(labels), max_length=args.target_seq_len, return_tensors='pt',\n",
    "                                         **encode_plus_kwargs).input_ids\n",
    "print(labels)\n",
    "labels[labels == tokenizer.pad_token_id] = -100\n",
    "features['labels'] = labels\n",
    "# features['id'] = [b['id'] for b in batch]\n",
    "if 'outputs' in batch[0]:\n",
    "    features['target_text'] = [b['outputs'] for b in batch]\n",
    "else:\n",
    "    features['target_text'] = [b['output'] for b in batch]\n",
    "if 'global_attention_mask' in features:\n",
    "    raise RuntimeError('What global attention mask for Longformer and LongformerEncoder-Decoder should be?')\n"
   ]
  },
  {
   "cell_type": "code",
   "execution_count": 20,
   "id": "12ad98b3-d633-4c17-a1ea-4ad6cf27a01a",
   "metadata": {},
   "outputs": [
    {
     "data": {
      "text/plain": [
       "{'input_ids': [[936, 1]], 'attention_mask': [[1, 1]]}"
      ]
     },
     "execution_count": 20,
     "metadata": {},
     "output_type": "execute_result"
    }
   ],
   "source": [
    "labels = [b['outputs'][:args.target_seq_len * 10] for b in batch]\n",
    "tokenizer.batch_encode_plus(labels)"
   ]
  },
  {
   "cell_type": "code",
   "execution_count": 21,
   "id": "81df7f39-8f95-4207-a316-2ed823911c37",
   "metadata": {},
   "outputs": [
    {
     "data": {
      "text/plain": [
       "['human']"
      ]
     },
     "execution_count": 21,
     "metadata": {},
     "output_type": "execute_result"
    }
   ],
   "source": [
    "labels"
   ]
  },
  {
   "cell_type": "code",
   "execution_count": 22,
   "id": "208faf15-8e6b-4a17-bcea-d9250019935b",
   "metadata": {},
   "outputs": [],
   "source": [
    "# tokenizer.batch_decode(labels)"
   ]
  },
  {
   "cell_type": "code",
   "execution_count": null,
   "id": "5103d929-e272-41ef-9151-7818bb5ba575",
   "metadata": {},
   "outputs": [],
   "source": []
  },
  {
   "cell_type": "code",
   "execution_count": 23,
   "id": "88a2247c-609e-414c-9aeb-07ddd6bef699",
   "metadata": {},
   "outputs": [],
   "source": [
    "# cpt_folder = \"/home/bulatov/bulatov/KGLM/runs/t5-small/lr5e-05_constant_with_warmup_adamw_wd1e-03_512-512_bs64_iters1000000_baseline/run_0/\"\n",
    "# cpt_folder = \"/share/home/export/rmt_internship/kglm/lr5e-05_constant_with_warmup_adamw_wd1e-03_512-512_bs64_iters1000000/run_0\"\n",
    "# cpt_folder = \"/home/bulatov/bulatov/KGLM/runs/t5-small/lr5e-05_constant_with_warmup_adamw_wd1e-03_512-512_bs32_iters1500000_baseline/run_0\"\n",
    "cpt_folder = \"/home/bulatov/bulatov/KGLM/runs/t5-small/lr5e-05_constant_with_warmup_adamw_wd1e-03_512-512_bs64_iters4000000/run_1/\"\n",
    "# cpt_folder = \"/home/bulatov/bulatov/KGLM/tests/runs/test_t5_pretrain/\""
   ]
  },
  {
   "cell_type": "code",
   "execution_count": 24,
   "id": "759d1700-14cb-4b23-9a60-6d12ea479323",
   "metadata": {},
   "outputs": [],
   "source": [
    "import os\n"
   ]
  },
  {
   "cell_type": "code",
   "execution_count": 25,
   "id": "e0b09620-3c96-4de4-a5e4-bef9b85f9281",
   "metadata": {},
   "outputs": [],
   "source": [
    "# !ls /share/home/export/rmt_internship/kglm/"
   ]
  },
  {
   "cell_type": "code",
   "execution_count": 26,
   "id": "d908621b-2d01-4334-9943-37ea5bee6ec0",
   "metadata": {},
   "outputs": [],
   "source": [
    "model_cpt = os.path.join(cpt_folder, 'model_best.pth')\n",
    "config_path = os.path.join(cpt_folder, 'config.json')"
   ]
  },
  {
   "cell_type": "code",
   "execution_count": 27,
   "id": "be8139c8-606b-4181-9fce-2b611087ae36",
   "metadata": {},
   "outputs": [],
   "source": [
    "cpt = torch.load(model_cpt, map_location='cpu')"
   ]
  },
  {
   "cell_type": "code",
   "execution_count": 28,
   "id": "5b6c6a8e-3a00-4c29-b861-e5f99cf5df74",
   "metadata": {},
   "outputs": [],
   "source": [
    "from transformers import T5ForConditionalGeneration, T5Config, AutoConfig"
   ]
  },
  {
   "cell_type": "code",
   "execution_count": 29,
   "id": "0a92efbd-f4b3-4a97-8266-a771ea8ba711",
   "metadata": {},
   "outputs": [],
   "source": [
    "config = T5Config(config_path)"
   ]
  },
  {
   "cell_type": "code",
   "execution_count": 38,
   "id": "696554a1-810a-4145-b5bb-c5e171bca639",
   "metadata": {},
   "outputs": [
    {
     "name": "stderr",
     "output_type": "stream",
     "text": [
      "You are using a model of type encoder-decoder to instantiate a model of type t5. This is not supported for all configurations of models and can yield errors.\n"
     ]
    }
   ],
   "source": [
    "model_cfg = T5Config.from_pretrained(config_path)\n",
    "# model_cfg"
   ]
  },
  {
   "cell_type": "code",
   "execution_count": 36,
   "id": "43b3f36c-5a3a-4ce2-a751-767c1356786a",
   "metadata": {},
   "outputs": [
    {
     "data": {
      "text/plain": [
       "T5Config {\n",
       "  \"_name_or_path\": \"t5-small\",\n",
       "  \"architectures\": [\n",
       "    \"T5WithLMHeadModel\"\n",
       "  ],\n",
       "  \"d_ff\": 2048,\n",
       "  \"d_kv\": 64,\n",
       "  \"d_model\": 512,\n",
       "  \"decoder_start_token_id\": 0,\n",
       "  \"dropout_rate\": 0.1,\n",
       "  \"eos_token_id\": 1,\n",
       "  \"feed_forward_proj\": \"relu\",\n",
       "  \"initializer_factor\": 1.0,\n",
       "  \"is_encoder_decoder\": true,\n",
       "  \"layer_norm_epsilon\": 1e-06,\n",
       "  \"model_type\": \"t5\",\n",
       "  \"n_positions\": 512,\n",
       "  \"num_decoder_layers\": 6,\n",
       "  \"num_heads\": 8,\n",
       "  \"num_layers\": 6,\n",
       "  \"output_past\": true,\n",
       "  \"pad_token_id\": 0,\n",
       "  \"relative_attention_num_buckets\": 32,\n",
       "  \"task_specific_params\": {\n",
       "    \"summarization\": {\n",
       "      \"early_stopping\": true,\n",
       "      \"length_penalty\": 2.0,\n",
       "      \"max_length\": 200,\n",
       "      \"min_length\": 30,\n",
       "      \"no_repeat_ngram_size\": 3,\n",
       "      \"num_beams\": 4,\n",
       "      \"prefix\": \"summarize: \"\n",
       "    },\n",
       "    \"translation_en_to_de\": {\n",
       "      \"early_stopping\": true,\n",
       "      \"max_length\": 300,\n",
       "      \"num_beams\": 4,\n",
       "      \"prefix\": \"translate English to German: \"\n",
       "    },\n",
       "    \"translation_en_to_fr\": {\n",
       "      \"early_stopping\": true,\n",
       "      \"max_length\": 300,\n",
       "      \"num_beams\": 4,\n",
       "      \"prefix\": \"translate English to French: \"\n",
       "    },\n",
       "    \"translation_en_to_ro\": {\n",
       "      \"early_stopping\": true,\n",
       "      \"max_length\": 300,\n",
       "      \"num_beams\": 4,\n",
       "      \"prefix\": \"translate English to Romanian: \"\n",
       "    }\n",
       "  },\n",
       "  \"transformers_version\": \"4.17.0\",\n",
       "  \"use_cache\": true,\n",
       "  \"vocab_size\": 32128\n",
       "}"
      ]
     },
     "execution_count": 36,
     "metadata": {},
     "output_type": "execute_result"
    }
   ],
   "source": [
    "model_cfg = AutoConfig.from_pretrained('t5-small')\n",
    "# model_cfg"
   ]
  },
  {
   "cell_type": "code",
   "execution_count": 34,
   "id": "72b3f6d0-0f7d-46b4-8879-848018418143",
   "metadata": {},
   "outputs": [
    {
     "name": "stderr",
     "output_type": "stream",
     "text": [
      "You are using a model of type encoder-decoder to instantiate a model of type t5. This is not supported for all configurations of models and can yield errors.\n"
     ]
    },
    {
     "data": {
      "text/plain": [
       "<All keys matched successfully>"
      ]
     },
     "execution_count": 34,
     "metadata": {},
     "output_type": "execute_result"
    }
   ],
   "source": [
    "model_cpt = os.path.join(cpt_folder, 'model_best.pth')\n",
    "config_path = os.path.join(cpt_folder, 'config.json')\n",
    "\n",
    "# model_cfg = AutoConfig.from_pretrained('t5-small')\n",
    "model_cfg = T5Config.from_pretrained(config_path)\n",
    "model = T5ForConditionalGeneration(config=model_cfg)\n",
    "\n",
    "cpt = torch.load(model_cpt, map_location='cpu')\n",
    "model.load_state_dict(cpt['model_state_dict'])"
   ]
  },
  {
   "cell_type": "code",
   "execution_count": 32,
   "id": "4d973e04-664e-41c5-84ae-2fdc67ad09c3",
   "metadata": {},
   "outputs": [
    {
     "data": {
      "text/plain": [
       "<All keys matched successfully>"
      ]
     },
     "execution_count": 32,
     "metadata": {},
     "output_type": "execute_result"
    }
   ],
   "source": [
    "model.load_state_dict(cpt['model_state_dict'])"
   ]
  }
 ],
 "metadata": {
  "kernelspec": {
   "display_name": "hvdenv",
   "language": "python",
   "name": "hvdenv"
  },
  "language_info": {
   "codemirror_mode": {
    "name": "ipython",
    "version": 3
   },
   "file_extension": ".py",
   "mimetype": "text/x-python",
   "name": "python",
   "nbconvert_exporter": "python",
   "pygments_lexer": "ipython3",
   "version": "3.8.10"
  }
 },
 "nbformat": 4,
 "nbformat_minor": 5
}
